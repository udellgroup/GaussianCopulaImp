{
 "cells": [
  {
   "cell_type": "code",
   "execution_count": 1,
   "metadata": {},
   "outputs": [],
   "source": [
    "import pandas as pd\n",
    "import numpy as np\n",
    "import matplotlib.pyplot as plt"
   ]
  },
  {
   "cell_type": "code",
   "execution_count": 2,
   "metadata": {},
   "outputs": [],
   "source": [
    "from GaussianCopulaImp.gaussian_copula import GaussianCopula\n",
    "from GaussianCopulaImp.low_rank_gaussian_copula import LowRankGaussianCopula\n",
    "from GaussianCopulaImp.helper_data_generation import generate_sigma, generate_mixed_from_gc, generate_LRGC\n",
    "from GaussianCopulaImp.helper_evaluation import get_rmse, error_by_reliability\n",
    "from GaussianCopulaImp.helper_mask import mask"
   ]
  },
  {
   "cell_type": "markdown",
   "metadata": {},
   "source": [
    "## Confidence interval under full rank Gaussian copula model\n",
    "\n",
    "We use a 2000*15 dimensional dataset generated from the Gaussian copula model whose marginals are exponential distribution with rate parameter 1/3. The coverage results are robust to different marginal distribution specification."
   ]
  },
  {
   "cell_type": "code",
   "execution_count": 3,
   "metadata": {},
   "outputs": [],
   "source": [
    "seed = 101\n",
    "var_types = {'cont':list(range(15)), 'ord':[], 'bin':[]}\n",
    "n = 2000"
   ]
  },
  {
   "cell_type": "code",
   "execution_count": 4,
   "metadata": {},
   "outputs": [],
   "source": [
    "sigma = generate_sigma(seed, p=sum([len(value) for value in var_types.values()]))\n",
    "X = generate_mixed_from_gc(sigma=sigma, n=n, seed=seed, var_types=var_types)\n",
    "X_masked = mask(X, mask_fraction=0.4, seed=seed)"
   ]
  },
  {
   "cell_type": "code",
   "execution_count": 5,
   "metadata": {},
   "outputs": [],
   "source": [
    "model = GaussianCopula()"
   ]
  },
  {
   "cell_type": "code",
   "execution_count": 6,
   "metadata": {},
   "outputs": [
    {
     "name": "stdout",
     "output_type": "stream",
     "text": [
      "Copula correlation change ratio:  0.1247\n",
      "Copula correlation change ratio:  0.068\n",
      "Copula correlation change ratio:  0.0383\n",
      "Copula correlation change ratio:  0.0233\n",
      "Copula correlation change ratio:  0.0153\n",
      "Copula correlation change ratio:  0.0107\n",
      "Convergence at iteration 7\n"
     ]
    }
   ],
   "source": [
    "out = model.impute_missing(X=X_masked,verbose=True)"
   ]
  },
  {
   "cell_type": "code",
   "execution_count": 7,
   "metadata": {},
   "outputs": [
    {
     "data": {
      "text/plain": [
       "0.5222093777725176"
      ]
     },
     "execution_count": 7,
     "metadata": {},
     "output_type": "execute_result"
    }
   ],
   "source": [
    "get_rmse(x_imp = out['imputed_data'], x_true = X, x_obs = X_masked, relative = True)"
   ]
  },
  {
   "cell_type": "code",
   "execution_count": 8,
   "metadata": {},
   "outputs": [],
   "source": [
    "cover_rate = {}\n",
    "for alpha in [0.85, 0.9, 0.95]:\n",
    "    out_confidence_interval = model.get_imputed_confidence_interval(alpha = alpha)\n",
    "    missing_loc = np.isnan(X_masked)\n",
    "    lower, upper = out_confidence_interval['lower'], out_confidence_interval['upper']\n",
    "    cover = (lower[missing_loc] < X[missing_loc]) & (upper[missing_loc] > X[missing_loc])\n",
    "    cover_rate[alpha] = np.array(cover).mean()"
   ]
  },
  {
   "cell_type": "markdown",
   "metadata": {},
   "source": [
    "The returned confidence intervals are slightly higher than the specified coverage rate"
   ]
  },
  {
   "cell_type": "code",
   "execution_count": 9,
   "metadata": {},
   "outputs": [
    {
     "name": "stdout",
     "output_type": "stream",
     "text": [
      "The actual coverage rate is 0.881 with specified coverage rate 0.850\n",
      "The actual coverage rate is 0.922 with specified coverage rate 0.900\n",
      "The actual coverage rate is 0.965 with specified coverage rate 0.950\n"
     ]
    }
   ],
   "source": [
    "for key, val in cover_rate.items():\n",
    "    print(f'The actual coverage rate is {val:.3f} with specified coverage rate {key:.3f}')"
   ]
  },
  {
   "cell_type": "markdown",
   "metadata": {},
   "source": [
    "### Reliability under full rank Gaussian copula model"
   ]
  },
  {
   "cell_type": "code",
   "execution_count": 10,
   "metadata": {},
   "outputs": [],
   "source": [
    "reliability = model.get_reliability_cont(Ximp = out['imputed_data'])"
   ]
  },
  {
   "cell_type": "code",
   "execution_count": 11,
   "metadata": {},
   "outputs": [],
   "source": [
    "nrmse_by_reliability = error_by_reliability('NRMSE', reliability, \n",
    "                                            xtrue=X, ximp=out['imputed_data'])"
   ]
  },
  {
   "cell_type": "code",
   "execution_count": 12,
   "metadata": {},
   "outputs": [
    {
     "data": {
      "image/png": "[encoded data removed]",
      "text/plain": [
       "<Figure size 432x288 with 1 Axes>"
      ]
     },
     "metadata": {
      "needs_background": "light"
     },
     "output_type": "display_data"
    }
   ],
   "source": [
    "fig,ax = plt.subplots()\n",
    "ax.plot(nrmse_by_reliability)\n",
    "_ = ax.set_ylabel('Imputation NRMSE')\n",
    "_ = ax.set_xlabel('Percentage of entries selected')\n",
    "_ = ax.set_title('On the subset of m% entries with the highest reliability')"
   ]
  },
  {
   "cell_type": "markdown",
   "metadata": {},
   "source": [
    "## Confidence interval under low rank Gaussian copula model\n",
    "\n",
    "We use a 500*200 dimensional dataset generated from the low rank Gaussian copula model whose marginals are cubic of standard normals. The coverage results are robust to different marginal distribution specification."
   ]
  },
  {
   "cell_type": "code",
   "execution_count": 13,
   "metadata": {},
   "outputs": [],
   "source": [
    "seed = 101\n",
    "var_types = {'cont':list(range(200)), 'ord':[], 'bin':[]}"
   ]
  },
  {
   "cell_type": "code",
   "execution_count": 14,
   "metadata": {},
   "outputs": [],
   "source": [
    "X, Wtrue = generate_LRGC(var_types=var_types, \n",
    "                             rank=10, sigma=0.1, \n",
    "                             n=500, cont_transform=lambda x:x**3,\n",
    "                             seed=seed)\n",
    "\n",
    "X_masked = mask(X, mask_fraction = 0.4, seed=seed)"
   ]
  },
  {
   "cell_type": "code",
   "execution_count": 15,
   "metadata": {},
   "outputs": [
    {
     "name": "stdout",
     "output_type": "stream",
     "text": [
      "Ater initialization, W has shape (200, 10) and sigma is 0.13660508507418753\n",
      "Interation 1: sigma estimate 0.105, copula  parameter change ratio 0.064, likelihood 85624.238\n",
      "Interation 2: sigma estimate 0.100, copula  parameter change ratio 0.006, likelihood 98433.576\n",
      "Interation 3: sigma estimate 0.099, copula  parameter change ratio 0.003, likelihood 100624.374\n",
      "early stop because changed likelihood below 1%\n"
     ]
    }
   ],
   "source": [
    "model = LowRankGaussianCopula()\n",
    "out = model.impute_missing(X=X_masked, rank=10, verbose=True)"
   ]
  },
  {
   "cell_type": "code",
   "execution_count": 16,
   "metadata": {},
   "outputs": [
    {
     "data": {
      "text/plain": [
       "0.5177723167413107"
      ]
     },
     "execution_count": 16,
     "metadata": {},
     "output_type": "execute_result"
    }
   ],
   "source": [
    "get_rmse(x_imp = out['imputed_data'], x_true = X, x_obs = X_masked, relative = True)"
   ]
  },
  {
   "cell_type": "code",
   "execution_count": 17,
   "metadata": {},
   "outputs": [],
   "source": [
    "cover_rate = {}\n",
    "for alpha in [0.85, 0.9, 0.95]:\n",
    "    out_confidence_interval = model.get_imputed_confidence_interval(alpha = alpha)\n",
    "    missing_loc = np.isnan(X_masked)\n",
    "    lower, upper = out_confidence_interval['lower'], out_confidence_interval['upper']\n",
    "    cover = (lower[missing_loc] < X[missing_loc]) & (upper[missing_loc] > X[missing_loc])\n",
    "    cover_rate[alpha] = np.array(cover).mean()"
   ]
  },
  {
   "cell_type": "markdown",
   "metadata": {},
   "source": [
    "The returned confidence intervals are slightly lower than the specified coverage rate"
   ]
  },
  {
   "cell_type": "code",
   "execution_count": 18,
   "metadata": {},
   "outputs": [
    {
     "name": "stdout",
     "output_type": "stream",
     "text": [
      "The actual coverage rate is 0.824 with specified coverage rate 0.850\n",
      "The actual coverage rate is 0.875 with specified coverage rate 0.900\n",
      "The actual coverage rate is 0.930 with specified coverage rate 0.950\n"
     ]
    }
   ],
   "source": [
    "for key, val in cover_rate.items():\n",
    "    print(f'The actual coverage rate is {val:.3f} with specified coverage rate {key:.3f}')"
   ]
  },
  {
   "cell_type": "code",
   "execution_count": 19,
   "metadata": {},
   "outputs": [],
   "source": [
    "reliability = model.get_reliability_cont(Ximp = out['imputed_data'])"
   ]
  },
  {
   "cell_type": "code",
   "execution_count": 20,
   "metadata": {},
   "outputs": [],
   "source": [
    "nrmse_by_reliability = error_by_reliability('NRMSE', reliability, \n",
    "                                            xtrue=X, ximp=out['imputed_data'])"
   ]
  },
  {
   "cell_type": "code",
   "execution_count": 21,
   "metadata": {},
   "outputs": [
    {
     "data": {
      "image/png": "[encoded data removed]",
      "text/plain": [
       "<Figure size 432x288 with 1 Axes>"
      ]
     },
     "metadata": {
      "needs_background": "light"
     },
     "output_type": "display_data"
    }
   ],
   "source": [
    "fig,ax = plt.subplots()\n",
    "ax.plot(nrmse_by_reliability)\n",
    "_ = ax.set_ylabel('Imputation NRMSE')\n",
    "_ = ax.set_xlabel('Percentage of entries selected')\n",
    "_ = ax.set_title('On the subset of m% entries with the highest reliability')"
   ]
  }
 ],
 "metadata": {
  "kernelspec": {
   "display_name": "Python 3",
   "language": "python",
   "name": "python3"
  },
  "language_info": {
   "codemirror_mode": {
    "name": "ipython",
    "version": 3
   },
   "file_extension": ".py",
   "mimetype": "text/x-python",
   "name": "python",
   "nbconvert_exporter": "python",
   "pygments_lexer": "ipython3",
   "version": "3.7.6"
  }
 },
 "nbformat": 4,
 "nbformat_minor": 4
}
