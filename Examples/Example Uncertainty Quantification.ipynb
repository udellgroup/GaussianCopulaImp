{
 "cells": [
  {
   "cell_type": "code",
   "execution_count": 1,
   "metadata": {},
   "outputs": [],
   "source": [
    "import pandas as pd\n",
    "import numpy as np\n",
    "import matplotlib.pyplot as plt"
   ]
  },
  {
   "cell_type": "code",
   "execution_count": 2,
   "metadata": {},
   "outputs": [],
   "source": [
    "from GaussianCopulaImp.gaussian_copula import GaussianCopula\n",
    "from GaussianCopulaImp.low_rank_gaussian_copula import LowRankGaussianCopula\n",
    "from GaussianCopulaImp.helper_data_generation import generate_sigma, generate_mixed_from_gc, generate_LRGC\n",
    "from GaussianCopulaImp.helper_evaluation import get_rmse, get_mae, error_by_reliability\n",
    "from GaussianCopulaImp.helper_mask import mask"
   ]
  },
  {
   "cell_type": "markdown",
   "metadata": {},
   "source": [
    "## Confidence interval under full rank Gaussian copula model\n",
    "\n",
    "We use a 2000*15 dimensional dataset generated from the Gaussian copula model whose marginals are exponential distribution with rate parameter 1/3. The coverage results are robust to different marginal distribution specification."
   ]
  },
  {
   "cell_type": "code",
   "execution_count": 3,
   "metadata": {},
   "outputs": [],
   "source": [
    "seed = 101\n",
    "var_types = {'cont':list(range(15)), 'ord':[], 'bin':[]}\n",
    "n = 2000"
   ]
  },
  {
   "cell_type": "code",
   "execution_count": 4,
   "metadata": {},
   "outputs": [],
   "source": [
    "sigma = generate_sigma(seed, p=sum([len(value) for value in var_types.values()]))\n",
    "X = generate_mixed_from_gc(sigma=sigma, n=n, seed=seed, var_types=var_types)\n",
    "X_masked = mask(X, mask_fraction=0.4, seed=seed)"
   ]
  },
  {
   "cell_type": "code",
   "execution_count": 5,
   "metadata": {},
   "outputs": [],
   "source": [
    "model = GaussianCopula()"
   ]
  },
  {
   "cell_type": "code",
   "execution_count": 6,
   "metadata": {},
   "outputs": [
    {
     "name": "stdout",
     "output_type": "stream",
     "text": [
      "Copula correlation change ratio:  0.1247\n",
      "Copula correlation change ratio:  0.068\n",
      "Copula correlation change ratio:  0.0383\n",
      "Copula correlation change ratio:  0.0233\n",
      "Copula correlation change ratio:  0.0153\n",
      "Copula correlation change ratio:  0.0107\n",
      "Convergence at iteration 7\n"
     ]
    }
   ],
   "source": [
    "out = model.impute_missing(X=X_masked,verbose=True)"
   ]
  },
  {
   "cell_type": "code",
   "execution_count": 7,
   "metadata": {},
   "outputs": [
    {
     "data": {
      "text/plain": [
       "0.5222093777725176"
      ]
     },
     "execution_count": 7,
     "metadata": {},
     "output_type": "execute_result"
    }
   ],
   "source": [
    "get_rmse(x_imp = out['imputed_data'], x_true = X, x_obs = X_masked, relative = True)"
   ]
  },
  {
   "cell_type": "code",
   "execution_count": 8,
   "metadata": {},
   "outputs": [],
   "source": [
    "cover_rate = {}\n",
    "for alpha in [0.85, 0.9, 0.95]:\n",
    "    out_confidence_interval = model.get_imputed_confidence_interval(alpha = alpha)\n",
    "    missing_loc = np.isnan(X_masked)\n",
    "    lower, upper = out_confidence_interval['lower'], out_confidence_interval['upper']\n",
    "    cover = (lower[missing_loc] < X[missing_loc]) & (upper[missing_loc] > X[missing_loc])\n",
    "    cover_rate[alpha] = np.array(cover).mean()"
   ]
  },
  {
   "cell_type": "markdown",
   "metadata": {},
   "source": [
    "The returned confidence intervals are slightly higher than the specified coverage rate"
   ]
  },
  {
   "cell_type": "code",
   "execution_count": 9,
   "metadata": {},
   "outputs": [
    {
     "name": "stdout",
     "output_type": "stream",
     "text": [
      "The actual coverage rate is 0.881 with specified coverage rate 0.850\n",
      "The actual coverage rate is 0.922 with specified coverage rate 0.900\n",
      "The actual coverage rate is 0.965 with specified coverage rate 0.950\n"
     ]
    }
   ],
   "source": [
    "for key, val in cover_rate.items():\n",
    "    print(f'The actual coverage rate is {val:.3f} with specified coverage rate {key:.3f}')"
   ]
  },
  {
   "cell_type": "markdown",
   "metadata": {},
   "source": [
    "## Reliability for continuous data under full rank Gaussian copula model"
   ]
  },
  {
   "cell_type": "code",
   "execution_count": 10,
   "metadata": {},
   "outputs": [],
   "source": [
    "reliability = model.get_reliability(Ximp = out['imputed_data'])"
   ]
  },
  {
   "cell_type": "code",
   "execution_count": 11,
   "metadata": {},
   "outputs": [],
   "source": [
    "nrmse_by_reliability = error_by_reliability('NRMSE', reliability, \n",
    "                                            xtrue=X, ximp=out['imputed_data'])"
   ]
  },
  {
   "cell_type": "code",
   "execution_count": 12,
   "metadata": {},
   "outputs": [
    {
     "data": {
      "image/png": "[encoded data removed]",
      "text/plain": [
       "<Figure size 432x288 with 1 Axes>"
      ]
     },
     "metadata": {
      "needs_background": "light"
     },
     "output_type": "display_data"
    }
   ],
   "source": [
    "fig,ax = plt.subplots()\n",
    "ax.plot(nrmse_by_reliability)\n",
    "_ = ax.set_ylabel('Imputation NRMSE')\n",
    "_ = ax.set_xlabel('Percentage of entries selected')\n",
    "_ = ax.set_title('On the subset of m% entries with the highest reliability')"
   ]
  },
  {
   "cell_type": "markdown",
   "metadata": {},
   "source": [
    "## Reliability for ordinal data under full rank Gaussian copula model"
   ]
  },
  {
   "cell_type": "markdown",
   "metadata": {},
   "source": [
    "### Ordinal variables with ratings 1-5"
   ]
  },
  {
   "cell_type": "code",
   "execution_count": 13,
   "metadata": {},
   "outputs": [],
   "source": [
    "var_types = {'cont':[], 'ord':list(range(15)), 'bin':[]}"
   ]
  },
  {
   "cell_type": "code",
   "execution_count": 14,
   "metadata": {},
   "outputs": [],
   "source": [
    "sigma = generate_sigma(seed, p=sum([len(value) for value in var_types.values()]))\n",
    "X = generate_mixed_from_gc(sigma=sigma, n=n, seed=seed, var_types=var_types)\n",
    "X_masked = mask(X, mask_fraction=0.4, seed=seed)"
   ]
  },
  {
   "cell_type": "code",
   "execution_count": 15,
   "metadata": {},
   "outputs": [
    {
     "name": "stdout",
     "output_type": "stream",
     "text": [
      "Copula correlation change ratio:  0.1279\n",
      "Copula correlation change ratio:  0.0832\n",
      "Copula correlation change ratio:  0.0531\n",
      "Copula correlation change ratio:  0.0346\n",
      "Copula correlation change ratio:  0.0233\n",
      "Copula correlation change ratio:  0.0163\n",
      "Copula correlation change ratio:  0.0118\n",
      "Convergence at iteration 8\n"
     ]
    }
   ],
   "source": [
    "model = GaussianCopula()\n",
    "out = model.impute_missing(X=X_masked,verbose=True)"
   ]
  },
  {
   "cell_type": "code",
   "execution_count": 16,
   "metadata": {},
   "outputs": [
    {
     "data": {
      "text/plain": [
       "0.42691666666666667"
      ]
     },
     "execution_count": 16,
     "metadata": {},
     "output_type": "execute_result"
    }
   ],
   "source": [
    "get_mae(x_imp = out['imputed_data'], x_true = X, x_obs = X_masked)"
   ]
  },
  {
   "cell_type": "markdown",
   "metadata": {},
   "source": [
    "The default setting of evaluation computes the imputation error in the grid of 100 points. It could happen sometimes the entries with very high reliability (a few top percentiles) are in fact, as shown below."
   ]
  },
  {
   "cell_type": "code",
   "execution_count": 17,
   "metadata": {},
   "outputs": [
    {
     "data": {
      "image/png": "[encoded data removed]",
      "text/plain": [
       "<Figure size 432x288 with 1 Axes>"
      ]
     },
     "metadata": {
      "needs_background": "light"
     },
     "output_type": "display_data"
    }
   ],
   "source": [
    "reliability = model.get_reliability()\n",
    "\n",
    "mae_by_reliability = error_by_reliability('MAE', reliability, \n",
    "                                          xtrue=X, ximp=out['imputed_data'])\n",
    "\n",
    "fig,ax = plt.subplots()\n",
    "ax.plot(mae_by_reliability)\n",
    "_ = ax.set_ylabel('Imputation MAE')\n",
    "_ = ax.set_xlabel('Percentage of entries selected')\n",
    "_ = ax.set_title('On the subset of m% entries with the highest reliability')"
   ]
  },
  {
   "cell_type": "markdown",
   "metadata": {},
   "source": [
    "If we sample smaller number of points in the grid such that each point is evaluated with more data points, the curve looks good again."
   ]
  },
  {
   "cell_type": "code",
   "execution_count": 18,
   "metadata": {},
   "outputs": [
    {
     "data": {
      "image/png": "[encoded data removed]",
      "text/plain": [
       "<Figure size 432x288 with 1 Axes>"
      ]
     },
     "metadata": {
      "needs_background": "light"
     },
     "output_type": "display_data"
    }
   ],
   "source": [
    "mae_by_reliability = error_by_reliability('MAE', reliability, \n",
    "                                          xtrue=X, ximp=out['imputed_data'], num=10)\n",
    "\n",
    "fig,ax = plt.subplots()\n",
    "ax.plot(mae_by_reliability)\n",
    "_ = ax.set_ylabel('Imputation MAE')\n",
    "_ = ax.set_xlabel('Percentage of entries selected')\n",
    "_ = ax.set_title('On the subset of m% entries with the highest reliability')\n",
    "_ = ax.set_xticks(list(range(10)))\n",
    "_ = ax.set_xticklabels([str(x+1) for x in range(0, 100, 10)])"
   ]
  },
  {
   "cell_type": "markdown",
   "metadata": {},
   "source": [
    "### Binary variables"
   ]
  },
  {
   "cell_type": "code",
   "execution_count": 19,
   "metadata": {},
   "outputs": [],
   "source": [
    "var_types = {'cont':[], 'ord':[], 'bin':list(range(15))}\n",
    "\n",
    "sigma = generate_sigma(seed, p=sum([len(value) for value in var_types.values()]))\n",
    "X = generate_mixed_from_gc(sigma=sigma, n=n, seed=seed, var_types=var_types)\n",
    "X_masked = mask(X, mask_fraction=0.4, seed=seed)"
   ]
  },
  {
   "cell_type": "code",
   "execution_count": 20,
   "metadata": {},
   "outputs": [
    {
     "name": "stdout",
     "output_type": "stream",
     "text": [
      "Copula correlation change ratio:  0.0991\n",
      "Copula correlation change ratio:  0.0779\n",
      "Copula correlation change ratio:  0.0585\n",
      "Copula correlation change ratio:  0.0428\n",
      "Copula correlation change ratio:  0.0308\n",
      "Copula correlation change ratio:  0.022\n",
      "Copula correlation change ratio:  0.0157\n",
      "Copula correlation change ratio:  0.0113\n",
      "Convergence at iteration 9\n"
     ]
    }
   ],
   "source": [
    "model = GaussianCopula()\n",
    "out = model.impute_missing(X=X_masked,verbose=True)"
   ]
  },
  {
   "cell_type": "code",
   "execution_count": 21,
   "metadata": {},
   "outputs": [
    {
     "data": {
      "text/plain": [
       "0.31425"
      ]
     },
     "execution_count": 21,
     "metadata": {},
     "output_type": "execute_result"
    }
   ],
   "source": [
    "get_mae(x_imp = out['imputed_data'], x_true = X, x_obs = X_masked)"
   ]
  },
  {
   "cell_type": "code",
   "execution_count": 22,
   "metadata": {},
   "outputs": [
    {
     "data": {
      "image/png": "[encoded data removed]",
      "text/plain": [
       "<Figure size 432x288 with 1 Axes>"
      ]
     },
     "metadata": {
      "needs_background": "light"
     },
     "output_type": "display_data"
    }
   ],
   "source": [
    "reliability = model.get_reliability()\n",
    "\n",
    "mae_by_reliability = error_by_reliability('MAE', reliability, \n",
    "                                          xtrue=X, ximp=out['imputed_data'])\n",
    "\n",
    "fig,ax = plt.subplots()\n",
    "ax.plot(mae_by_reliability)\n",
    "_ = ax.set_ylabel('Imputation MAE')\n",
    "_ = ax.set_xlabel('Percentage of entries selected')\n",
    "_ = ax.set_title('On the subset of m% entries with the highest reliability')"
   ]
  },
  {
   "cell_type": "markdown",
   "metadata": {},
   "source": [
    "## Confidence interval under low rank Gaussian copula model\n",
    "\n",
    "We use a 500*200 dimensional dataset generated from the low rank Gaussian copula model whose marginals are cubic of standard normals. The coverage results are robust to different marginal distribution specification."
   ]
  },
  {
   "cell_type": "code",
   "execution_count": 23,
   "metadata": {},
   "outputs": [],
   "source": [
    "seed = 101\n",
    "var_types = {'cont':list(range(200)), 'ord':[], 'bin':[]}"
   ]
  },
  {
   "cell_type": "code",
   "execution_count": 24,
   "metadata": {},
   "outputs": [],
   "source": [
    "X, Wtrue = generate_LRGC(var_types=var_types, \n",
    "                             rank=10, sigma=0.1, \n",
    "                             n=500, cont_transform=lambda x:x**3,\n",
    "                             seed=seed)\n",
    "\n",
    "X_masked = mask(X, mask_fraction = 0.4, seed=seed)"
   ]
  },
  {
   "cell_type": "code",
   "execution_count": 25,
   "metadata": {},
   "outputs": [
    {
     "name": "stdout",
     "output_type": "stream",
     "text": [
      "Ater initialization, W has shape (200, 10) and sigma is 0.13660508507418753\n",
      "Interation 1: sigma estimate 0.105, copula  parameter change ratio 0.064, likelihood 85624.238\n",
      "Interation 2: sigma estimate 0.100, copula  parameter change ratio 0.006, likelihood 98433.576\n",
      "Interation 3: sigma estimate 0.099, copula  parameter change ratio 0.003, likelihood 100624.374\n",
      "early stop because changed likelihood below 1%\n"
     ]
    }
   ],
   "source": [
    "model = LowRankGaussianCopula()\n",
    "out = model.impute_missing(X=X_masked, rank=10, verbose=True)"
   ]
  },
  {
   "cell_type": "code",
   "execution_count": 26,
   "metadata": {},
   "outputs": [
    {
     "data": {
      "text/plain": [
       "0.5177723167413107"
      ]
     },
     "execution_count": 26,
     "metadata": {},
     "output_type": "execute_result"
    }
   ],
   "source": [
    "get_rmse(x_imp = out['imputed_data'], x_true = X, x_obs = X_masked, relative = True)"
   ]
  },
  {
   "cell_type": "code",
   "execution_count": 27,
   "metadata": {},
   "outputs": [],
   "source": [
    "cover_rate = {}\n",
    "for alpha in [0.85, 0.9, 0.95]:\n",
    "    out_confidence_interval = model.get_imputed_confidence_interval(alpha = alpha)\n",
    "    missing_loc = np.isnan(X_masked)\n",
    "    lower, upper = out_confidence_interval['lower'], out_confidence_interval['upper']\n",
    "    cover = (lower[missing_loc] < X[missing_loc]) & (upper[missing_loc] > X[missing_loc])\n",
    "    cover_rate[alpha] = np.array(cover).mean()"
   ]
  },
  {
   "cell_type": "markdown",
   "metadata": {},
   "source": [
    "The returned confidence intervals are slightly lower than the specified coverage rate"
   ]
  },
  {
   "cell_type": "code",
   "execution_count": 28,
   "metadata": {},
   "outputs": [
    {
     "name": "stdout",
     "output_type": "stream",
     "text": [
      "The actual coverage rate is 0.824 with specified coverage rate 0.850\n",
      "The actual coverage rate is 0.875 with specified coverage rate 0.900\n",
      "The actual coverage rate is 0.930 with specified coverage rate 0.950\n"
     ]
    }
   ],
   "source": [
    "for key, val in cover_rate.items():\n",
    "    print(f'The actual coverage rate is {val:.3f} with specified coverage rate {key:.3f}')"
   ]
  },
  {
   "cell_type": "markdown",
   "metadata": {},
   "source": [
    "## Reliability for continuous data under low rank Gaussian copula model"
   ]
  },
  {
   "cell_type": "code",
   "execution_count": 29,
   "metadata": {},
   "outputs": [],
   "source": [
    "reliability = model.get_reliability(Ximp = out['imputed_data'])"
   ]
  },
  {
   "cell_type": "code",
   "execution_count": 30,
   "metadata": {},
   "outputs": [],
   "source": [
    "nrmse_by_reliability = error_by_reliability('NRMSE', reliability, \n",
    "                                            xtrue=X, ximp=out['imputed_data'])"
   ]
  },
  {
   "cell_type": "code",
   "execution_count": 31,
   "metadata": {},
   "outputs": [
    {
     "data": {
      "image/png": "[encoded data removed]",
      "text/plain": [
       "<Figure size 432x288 with 1 Axes>"
      ]
     },
     "metadata": {
      "needs_background": "light"
     },
     "output_type": "display_data"
    }
   ],
   "source": [
    "fig,ax = plt.subplots()\n",
    "ax.plot(nrmse_by_reliability)\n",
    "_ = ax.set_ylabel('Imputation NRMSE')\n",
    "_ = ax.set_xlabel('Percentage of entries selected')\n",
    "_ = ax.set_title('On the subset of m% entries with the highest reliability')"
   ]
  },
  {
   "cell_type": "markdown",
   "metadata": {},
   "source": [
    "## Reliability for ordinal data under low rank Gaussian copula model"
   ]
  },
  {
   "cell_type": "markdown",
   "metadata": {},
   "source": [
    "### Ordinal variables with ratings 1-5"
   ]
  },
  {
   "cell_type": "code",
   "execution_count": 32,
   "metadata": {},
   "outputs": [],
   "source": [
    "var_types = {'cont':[], 'ord':list(range(200)), 'bin':[]}\n",
    "\n",
    "X, Wtrue = generate_LRGC(var_types=var_types, \n",
    "                             rank=10, sigma=0.1, \n",
    "                             n=500, cont_transform=lambda x:x**3,\n",
    "                             seed=seed)\n",
    "\n",
    "X_masked = mask(X, mask_fraction = 0.4, seed=seed)"
   ]
  },
  {
   "cell_type": "code",
   "execution_count": 33,
   "metadata": {},
   "outputs": [
    {
     "name": "stdout",
     "output_type": "stream",
     "text": [
      "Ater initialization, W has shape (200, 10) and sigma is 0.2108259005080522\n",
      "Interation 1: sigma estimate 0.157, copula  parameter change ratio 0.068, likelihood 63134.733\n",
      "Interation 2: sigma estimate 0.134, copula  parameter change ratio 0.025, likelihood 79732.018\n",
      "Interation 3: sigma estimate 0.122, copula  parameter change ratio 0.012, likelihood 87671.367\n",
      "Interation 4: sigma estimate 0.115, copula  parameter change ratio 0.007, likelihood 92296.471\n",
      "Interation 5: sigma estimate 0.110, copula  parameter change ratio 0.005, likelihood 95276.407\n",
      "Interation 6: sigma estimate 0.107, copula  parameter change ratio 0.003, likelihood 97318.665\n",
      "Interation 7: sigma estimate 0.105, copula  parameter change ratio 0.002, likelihood 98776.259\n",
      "Interation 8: sigma estimate 0.103, copula  parameter change ratio 0.002, likelihood 99845.668\n",
      "early stop because changed likelihood below 1%\n"
     ]
    }
   ],
   "source": [
    "model = LowRankGaussianCopula()\n",
    "out = model.impute_missing(X=X_masked, rank=10, verbose=True)"
   ]
  },
  {
   "cell_type": "code",
   "execution_count": 34,
   "metadata": {},
   "outputs": [
    {
     "data": {
      "text/plain": [
       "0.2382"
      ]
     },
     "execution_count": 34,
     "metadata": {},
     "output_type": "execute_result"
    }
   ],
   "source": [
    "get_mae(x_imp = out['imputed_data'], x_true = X, x_obs = X_masked)"
   ]
  },
  {
   "cell_type": "code",
   "execution_count": 35,
   "metadata": {},
   "outputs": [
    {
     "data": {
      "image/png": "[encoded data removed]",
      "text/plain": [
       "<Figure size 432x288 with 1 Axes>"
      ]
     },
     "metadata": {
      "needs_background": "light"
     },
     "output_type": "display_data"
    }
   ],
   "source": [
    "reliability = model.get_reliability()\n",
    "\n",
    "mae_by_reliability = error_by_reliability('MAE', reliability, \n",
    "                                          xtrue=X, ximp=out['imputed_data'])\n",
    "\n",
    "fig,ax = plt.subplots()\n",
    "ax.plot(mae_by_reliability)\n",
    "_ = ax.set_ylabel('Imputation MAE')\n",
    "_ = ax.set_xlabel('Percentage of entries selected')\n",
    "_ = ax.set_title('On the subset of m% entries with the highest reliability')"
   ]
  },
  {
   "cell_type": "markdown",
   "metadata": {},
   "source": [
    "### Binary variables"
   ]
  },
  {
   "cell_type": "code",
   "execution_count": 36,
   "metadata": {},
   "outputs": [],
   "source": [
    "var_types = {'cont':[], 'ord':[], 'bin':list(range(200))}\n",
    "\n",
    "X, Wtrue = generate_LRGC(var_types=var_types, \n",
    "                             rank=10, sigma=0.1, \n",
    "                             n=500, cont_transform=lambda x:x**3,\n",
    "                             seed=seed)\n",
    "\n",
    "X_masked = mask(X, mask_fraction = 0.4, seed=seed)"
   ]
  },
  {
   "cell_type": "code",
   "execution_count": 37,
   "metadata": {},
   "outputs": [
    {
     "name": "stdout",
     "output_type": "stream",
     "text": [
      "Ater initialization, W has shape (200, 10) and sigma is 0.3080028454415014\n",
      "Interation 1: sigma estimate 0.226, copula  parameter change ratio 0.103, likelihood 46954.226\n",
      "Interation 2: sigma estimate 0.185, copula  parameter change ratio 0.042, likelihood 62863.094\n",
      "Interation 3: sigma estimate 0.164, copula  parameter change ratio 0.024, likelihood 72892.427\n",
      "Interation 4: sigma estimate 0.150, copula  parameter change ratio 0.015, likelihood 79015.950\n",
      "Interation 5: sigma estimate 0.141, copula  parameter change ratio 0.011, likelihood 83221.214\n",
      "Interation 6: sigma estimate 0.134, copula  parameter change ratio 0.008, likelihood 86296.475\n",
      "Interation 7: sigma estimate 0.130, copula  parameter change ratio 0.006, likelihood 88631.599\n",
      "Interation 8: sigma estimate 0.126, copula  parameter change ratio 0.005, likelihood 90447.496\n",
      "Interation 9: sigma estimate 0.123, copula  parameter change ratio 0.004, likelihood 91881.640\n",
      "Interation 10: sigma estimate 0.120, copula  parameter change ratio 0.004, likelihood 93025.476\n",
      "early stop because changed likelihood below 1%\n"
     ]
    }
   ],
   "source": [
    "model = LowRankGaussianCopula()\n",
    "out = model.impute_missing(X=X_masked, rank=10, verbose=True)"
   ]
  },
  {
   "cell_type": "code",
   "execution_count": null,
   "metadata": {},
   "outputs": [],
   "source": [
    "reliability = model.get_reliability()\n",
    "\n",
    "mae_by_reliability = error_by_reliability('MAE', reliability, \n",
    "                                          xtrue=X, ximp=out['imputed_data'])\n",
    "\n",
    "fig,ax = plt.subplots()\n",
    "ax.plot(mae_by_reliability)\n",
    "_ = ax.set_ylabel('Imputation MAE')\n",
    "_ = ax.set_xlabel('Percentage of entries selected')\n",
    "_ = ax.set_title('On the subset of m% entries with the highest reliability')"
   ]
  }
 ],
 "metadata": {
  "kernelspec": {
   "display_name": "Python 3",
   "language": "python",
   "name": "python3"
  },
  "language_info": {
   "codemirror_mode": {
    "name": "ipython",
    "version": 3
   },
   "file_extension": ".py",
   "mimetype": "text/x-python",
   "name": "python",
   "nbconvert_exporter": "python",
   "pygments_lexer": "ipython3",
   "version": "3.7.6"
  }
 },
 "nbformat": 4,
 "nbformat_minor": 4
}
