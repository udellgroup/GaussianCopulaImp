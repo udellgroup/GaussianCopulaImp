{
 "cells": [
  {
   "cell_type": "code",
   "execution_count": 1,
   "metadata": {},
   "outputs": [],
   "source": [
    "import pandas as pd\n",
    "import numpy as np\n",
    "import matplotlib.pyplot as plt"
   ]
  },
  {
   "cell_type": "code",
   "execution_count": 2,
   "metadata": {},
   "outputs": [],
   "source": [
    "from GaussianCopulaImp.gaussian_copula import GaussianCopula\n",
    "from GaussianCopulaImp.helper_data_generation import generate_sigma, generate_mixed_from_gc\n",
    "from GaussianCopulaImp.helper_evaluation import get_rmse\n",
    "from GaussianCopulaImp.helper_mask import mask"
   ]
  },
  {
   "cell_type": "markdown",
   "metadata": {},
   "source": [
    "## Confidence interval under full rank Gaussian copula model"
   ]
  },
  {
   "cell_type": "code",
   "execution_count": 3,
   "metadata": {},
   "outputs": [],
   "source": [
    "seed = 101\n",
    "var_types = {'cont':list(range(15)), 'ord':[], 'bin':[]}\n",
    "n = 2000"
   ]
  },
  {
   "cell_type": "code",
   "execution_count": 4,
   "metadata": {},
   "outputs": [],
   "source": [
    "sigma = generate_sigma(seed, p=sum([len(value) for value in var_types.values()]))\n",
    "X = generate_mixed_from_gc(sigma=sigma, n=n, seed=seed, var_types=var_types)\n",
    "X_masked = mask(X, mask_fraction=0.4, seed=seed)"
   ]
  },
  {
   "cell_type": "code",
   "execution_count": 5,
   "metadata": {},
   "outputs": [],
   "source": [
    "model = GaussianCopula()"
   ]
  },
  {
   "cell_type": "code",
   "execution_count": 6,
   "metadata": {},
   "outputs": [
    {
     "name": "stdout",
     "output_type": "stream",
     "text": [
      "Copula correlation change ratio:  0.1247\n",
      "Copula correlation change ratio:  0.068\n",
      "Copula correlation change ratio:  0.0383\n",
      "Copula correlation change ratio:  0.0233\n",
      "Copula correlation change ratio:  0.0153\n",
      "Copula correlation change ratio:  0.0107\n",
      "Convergence at iteration 7\n"
     ]
    }
   ],
   "source": [
    "out = model.impute_missing(X=X_masked,verbose=True)"
   ]
  },
  {
   "cell_type": "code",
   "execution_count": 7,
   "metadata": {},
   "outputs": [
    {
     "data": {
      "text/plain": [
       "0.5222093777725176"
      ]
     },
     "execution_count": 7,
     "metadata": {},
     "output_type": "execute_result"
    }
   ],
   "source": [
    "get_rmse(x_imp = out['imputed_data'], x_true = X, x_obs = X_masked, relative = True)"
   ]
  },
  {
   "cell_type": "code",
   "execution_count": 23,
   "metadata": {},
   "outputs": [],
   "source": [
    "cover_rate = {}\n",
    "for alpha in [0.85, 0.9, 0.95]:\n",
    "    out_confidence_interval = model.get_imputed_confidence_interval(alpha = alpha)\n",
    "    missing_loc = np.isnan(X_masked)\n",
    "    lower, upper = out_confidence_interval['lower'], out_confidence_interval['upper']\n",
    "    cover = (lower[missing_loc] < X[missing_loc]) & (upper[missing_loc] > X[missing_loc])\n",
    "    cover_rate[alpha] = np.array(cover).mean()"
   ]
  },
  {
   "cell_type": "markdown",
   "metadata": {},
   "source": [
    "The returned confidence intervals are slightly more conservative than specified coverage rate"
   ]
  },
  {
   "cell_type": "code",
   "execution_count": 25,
   "metadata": {},
   "outputs": [
    {
     "name": "stdout",
     "output_type": "stream",
     "text": [
      "The actual coverage rate is 0.881 with specified coverage rate 0.850\n",
      "The actual coverage rate is 0.922 with specified coverage rate 0.900\n",
      "The actual coverage rate is 0.965 with specified coverage rate 0.950\n"
     ]
    }
   ],
   "source": [
    "for key, val in cover_rate.items():\n",
    "    print(f'The actual coverage rate is {val:.3f} with specified coverage rate {key:.3f}')"
   ]
  }
 ],
 "metadata": {
  "kernelspec": {
   "display_name": "Python 3",
   "language": "python",
   "name": "python3"
  },
  "language_info": {
   "codemirror_mode": {
    "name": "ipython",
    "version": 3
   },
   "file_extension": ".py",
   "mimetype": "text/x-python",
   "name": "python",
   "nbconvert_exporter": "python",
   "pygments_lexer": "ipython3",
   "version": "3.7.6"
  }
 },
 "nbformat": 4,
 "nbformat_minor": 4
}
