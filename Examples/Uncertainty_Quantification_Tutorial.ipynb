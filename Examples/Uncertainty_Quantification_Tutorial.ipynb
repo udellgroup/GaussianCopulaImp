{
 "cells": [
  {
   "cell_type": "code",
   "execution_count": 1,
   "metadata": {},
   "outputs": [],
   "source": [
    "import pandas as pd\n",
    "import numpy as np\n",
    "import matplotlib.pyplot as plt"
   ]
  },
  {
   "cell_type": "code",
   "execution_count": 2,
   "metadata": {},
   "outputs": [],
   "source": [
    "from gcimpute.gaussian_copula import GaussianCopula\n",
    "from gcimpute.low_rank_gaussian_copula import LowRankGaussianCopula\n",
    "from gcimpute.helper_data import generate_sigma, generate_mixed_from_gc, generate_LRGC\n",
    "from gcimpute.helper_evaluation import get_rmse, get_mae, error_by_reliability\n",
    "from gcimpute.helper_mask import mask_MCAR"
   ]
  },
  {
   "cell_type": "markdown",
   "metadata": {},
   "source": [
    "## Confidence interval under full rank Gaussian copula model\n",
    "\n",
    "We use a 2000*15 dimensional dataset generated from the Gaussian copula model whose marginals are exponential distribution with rate parameter 1/3. The coverage results are robust to different marginal distribution specification."
   ]
  },
  {
   "cell_type": "code",
   "execution_count": 3,
   "metadata": {},
   "outputs": [],
   "source": [
    "seed = 101\n",
    "var_types = {'cont':list(range(15)), 'ord':[], 'bin':[]}\n",
    "n = 2000"
   ]
  },
  {
   "cell_type": "code",
   "execution_count": 4,
   "metadata": {},
   "outputs": [],
   "source": [
    "sigma = generate_sigma(seed, p=15)\n",
    "X = generate_mixed_from_gc(sigma=sigma, n=n, seed=seed, var_types=var_types)\n",
    "X_masked = mask_MCAR(X, mask_fraction=0.4, seed=seed)"
   ]
  },
  {
   "cell_type": "code",
   "execution_count": 5,
   "metadata": {},
   "outputs": [],
   "source": [
    "model = GaussianCopula(verbose=1)"
   ]
  },
  {
   "cell_type": "code",
   "execution_count": 6,
   "metadata": {},
   "outputs": [
    {
     "name": "stdout",
     "output_type": "stream",
     "text": [
      "Iteration 1: copula parameter change 0.1500, likelihood -16.9265\n",
      "Iteration 2: copula parameter change 0.0722, likelihood -16.6339\n",
      "Iteration 3: copula parameter change 0.0378, likelihood -16.4543\n",
      "Iteration 4: copula parameter change 0.0226, likelihood -16.3349\n",
      "Iteration 5: copula parameter change 0.0149, likelihood -16.2511\n",
      "Iteration 6: copula parameter change 0.0104, likelihood -16.1903\n",
      "Iteration 7: copula parameter change 0.0076, likelihood -16.1449\n",
      "Convergence achieved at iteration 7\n"
     ]
    }
   ],
   "source": [
    "Ximp = model.fit_transform(X=X_masked)"
   ]
  },
  {
   "cell_type": "code",
   "execution_count": 7,
   "metadata": {},
   "outputs": [
    {
     "data": {
      "text/plain": [
       "0.49098554381554577"
      ]
     },
     "execution_count": 7,
     "metadata": {},
     "output_type": "execute_result"
    }
   ],
   "source": [
    "get_rmse(x_imp = Ximp, x_true = X, x_obs = X_masked, relative = True)"
   ]
  },
  {
   "cell_type": "code",
   "execution_count": 8,
   "metadata": {},
   "outputs": [],
   "source": [
    "cover_rate = {}\n",
    "for alpha in [0.85, 0.9, 0.95]:\n",
    "    out_confidence_interval = model.get_imputed_confidence_interval(alpha = alpha)\n",
    "    missing_loc = np.isnan(X_masked)\n",
    "    lower, upper = out_confidence_interval['lower'], out_confidence_interval['upper']\n",
    "    cover = (lower[missing_loc] < X[missing_loc]) & (upper[missing_loc] > X[missing_loc])\n",
    "    cover_rate[alpha] = np.array(cover).mean()"
   ]
  },
  {
   "cell_type": "markdown",
   "metadata": {},
   "source": [
    "The returned confidence intervals are slightly higher than the specified coverage rate"
   ]
  },
  {
   "cell_type": "code",
   "execution_count": 9,
   "metadata": {},
   "outputs": [
    {
     "name": "stdout",
     "output_type": "stream",
     "text": [
      "The actual coverage rate is 0.878 with specified coverage rate 0.850\n",
      "The actual coverage rate is 0.920 with specified coverage rate 0.900\n",
      "The actual coverage rate is 0.963 with specified coverage rate 0.950\n"
     ]
    }
   ],
   "source": [
    "for key, val in cover_rate.items():\n",
    "    print(f'The actual coverage rate is {val:.3f} with specified coverage rate {key:.3f}')"
   ]
  },
  {
   "cell_type": "markdown",
   "metadata": {},
   "source": [
    "## Reliability for continuous data under full rank Gaussian copula model"
   ]
  },
  {
   "cell_type": "code",
   "execution_count": 10,
   "metadata": {},
   "outputs": [],
   "source": [
    "reliability = model.get_reliability(Ximp = Ximp)"
   ]
  },
  {
   "cell_type": "code",
   "execution_count": 11,
   "metadata": {},
   "outputs": [],
   "source": [
    "nrmse_by_reliability = error_by_reliability('NRMSE', reliability, \n",
    "                                            xtrue=X, ximp=Ximp)"
   ]
  },
  {
   "cell_type": "code",
   "execution_count": 12,
   "metadata": {},
   "outputs": [
    {
     "data": {
      "image/png": "[encoded data removed]",
      "text/plain": [
       "<Figure size 432x288 with 1 Axes>"
      ]
     },
     "metadata": {
      "needs_background": "light"
     },
     "output_type": "display_data"
    }
   ],
   "source": [
    "fig,ax = plt.subplots()\n",
    "ax.plot(nrmse_by_reliability)\n",
    "_ = ax.set_ylabel('Imputation NRMSE')\n",
    "_ = ax.set_xlabel('Percentage of entries selected')\n",
    "_ = ax.set_title('On the subset of m% entries with the highest reliability')"
   ]
  },
  {
   "cell_type": "markdown",
   "metadata": {},
   "source": [
    "## Reliability for ordinal data under full rank Gaussian copula model"
   ]
  },
  {
   "cell_type": "markdown",
   "metadata": {},
   "source": [
    "### Ordinal variables with ratings 1-5"
   ]
  },
  {
   "cell_type": "code",
   "execution_count": 17,
   "metadata": {},
   "outputs": [],
   "source": [
    "var_types = {'cont':[], 'ord':list(range(15)), 'bin':[]}"
   ]
  },
  {
   "cell_type": "code",
   "execution_count": 18,
   "metadata": {},
   "outputs": [],
   "source": [
    "sigma = generate_sigma(seed, p=15)\n",
    "X = generate_mixed_from_gc(sigma=sigma, n=n, seed=seed, var_types=var_types)\n",
    "X_masked = mask_MCAR(X, mask_fraction=0.4, seed=seed)"
   ]
  },
  {
   "cell_type": "code",
   "execution_count": 19,
   "metadata": {},
   "outputs": [
    {
     "name": "stdout",
     "output_type": "stream",
     "text": [
      "Iteration 1: copula parameter change 0.1314, likelihood -16.7013\n",
      "Iteration 2: copula parameter change 0.0783, likelihood -16.4600\n",
      "Iteration 3: copula parameter change 0.0456, likelihood -16.2628\n",
      "Iteration 4: copula parameter change 0.0277, likelihood -16.1185\n",
      "Iteration 5: copula parameter change 0.0180, likelihood -16.0129\n",
      "Iteration 6: copula parameter change 0.0124, likelihood -15.9347\n",
      "Iteration 7: copula parameter change 0.0090, likelihood -15.8757\n",
      "Convergence achieved at iteration 7\n"
     ]
    }
   ],
   "source": [
    "model = GaussianCopula(verbose=1)\n",
    "Ximp = model.fit_transform(X=X_masked)"
   ]
  },
  {
   "cell_type": "code",
   "execution_count": 20,
   "metadata": {},
   "outputs": [
    {
     "data": {
      "text/plain": [
       "0.72325"
      ]
     },
     "execution_count": 20,
     "metadata": {},
     "output_type": "execute_result"
    }
   ],
   "source": [
    "get_mae(x_imp = Ximp, x_true = X, x_obs = X_masked)"
   ]
  },
  {
   "cell_type": "markdown",
   "metadata": {},
   "source": [
    "The default setting of evaluation computes the imputation error in the grid of 100 points. It could happen sometimes the entries with very high reliability (a few top percentiles) are in fact, as shown below."
   ]
  },
  {
   "cell_type": "code",
   "execution_count": 21,
   "metadata": {},
   "outputs": [
    {
     "data": {
      "image/png": "[encoded data removed]",
      "text/plain": [
       "<Figure size 432x288 with 1 Axes>"
      ]
     },
     "metadata": {
      "needs_background": "light"
     },
     "output_type": "display_data"
    }
   ],
   "source": [
    "reliability = model.get_reliability()\n",
    "\n",
    "mae_by_reliability = error_by_reliability('MAE', reliability, \n",
    "                                          xtrue=X, ximp=Ximp)\n",
    "\n",
    "fig,ax = plt.subplots()\n",
    "ax.plot(mae_by_reliability)\n",
    "_ = ax.set_ylabel('Imputation MAE')\n",
    "_ = ax.set_xlabel('Percentage of entries selected')\n",
    "_ = ax.set_title('On the subset of m% entries with the highest reliability')"
   ]
  },
  {
   "cell_type": "markdown",
   "metadata": {},
   "source": [
    "### Binary variables"
   ]
  },
  {
   "cell_type": "code",
   "execution_count": 24,
   "metadata": {},
   "outputs": [],
   "source": [
    "var_types = {'cont':[], 'ord':[], 'bin':list(range(15))}\n",
    "\n",
    "sigma = generate_sigma(seed, p=15)\n",
    "X = generate_mixed_from_gc(sigma=sigma, n=n, seed=seed, var_types=var_types)\n",
    "X_masked = mask_MCAR(X, mask_fraction=0.4, seed=seed)"
   ]
  },
  {
   "cell_type": "code",
   "execution_count": 25,
   "metadata": {},
   "outputs": [
    {
     "name": "stdout",
     "output_type": "stream",
     "text": [
      "Iteration 1: copula parameter change 0.0556, likelihood -15.9247\n",
      "Iteration 2: copula parameter change 0.0482, likelihood -15.8873\n",
      "Iteration 3: copula parameter change 0.0383, likelihood -15.8222\n",
      "Iteration 4: copula parameter change 0.0292, likelihood -15.7655\n",
      "Iteration 5: copula parameter change 0.0219, likelihood -15.7184\n",
      "Iteration 6: copula parameter change 0.0164, likelihood -15.6809\n",
      "Iteration 7: copula parameter change 0.0123, likelihood -15.6514\n",
      "Iteration 8: copula parameter change 0.0093, likelihood -15.6285\n",
      "Convergence achieved at iteration 8\n"
     ]
    }
   ],
   "source": [
    "model = GaussianCopula(verbose=1)\n",
    "Ximp = model.fit_transform(X=X_masked)"
   ]
  },
  {
   "cell_type": "code",
   "execution_count": 26,
   "metadata": {},
   "outputs": [
    {
     "data": {
      "text/plain": [
       "0.2519166666666667"
      ]
     },
     "execution_count": 26,
     "metadata": {},
     "output_type": "execute_result"
    }
   ],
   "source": [
    "get_mae(x_imp = Ximp, x_true = X, x_obs = X_masked)"
   ]
  },
  {
   "cell_type": "code",
   "execution_count": 27,
   "metadata": {},
   "outputs": [
    {
     "data": {
      "image/png": "[encoded data removed]",
      "text/plain": [
       "<Figure size 432x288 with 1 Axes>"
      ]
     },
     "metadata": {
      "needs_background": "light"
     },
     "output_type": "display_data"
    }
   ],
   "source": [
    "reliability = model.get_reliability()\n",
    "\n",
    "mae_by_reliability = error_by_reliability('MAE', reliability, \n",
    "                                          xtrue=X, ximp=Ximp)\n",
    "\n",
    "fig,ax = plt.subplots()\n",
    "ax.plot(mae_by_reliability)\n",
    "_ = ax.set_ylabel('Imputation MAE')\n",
    "_ = ax.set_xlabel('Percentage of entries selected')\n",
    "_ = ax.set_title('On the subset of m% entries with the highest reliability')"
   ]
  },
  {
   "cell_type": "markdown",
   "metadata": {},
   "source": [
    "## Confidence interval under low rank Gaussian copula model\n",
    "\n",
    "We use a 500*200 dimensional dataset generated from the low rank Gaussian copula model whose marginals are cubic of standard normals. The coverage results are robust to different marginal distribution specification."
   ]
  },
  {
   "cell_type": "code",
   "execution_count": 28,
   "metadata": {},
   "outputs": [],
   "source": [
    "seed = 101\n",
    "var_types = {'cont':list(range(200)), 'ord':[], 'bin':[]}"
   ]
  },
  {
   "cell_type": "code",
   "execution_count": 30,
   "metadata": {},
   "outputs": [],
   "source": [
    "X, Wtrue = generate_LRGC(var_types=var_types, \n",
    "                             rank=10, sigma=0.1, \n",
    "                             n=500, cont_transform=lambda x:x**3,\n",
    "                             seed=seed)\n",
    "\n",
    "X_masked = mask_MCAR(X, mask_fraction = 0.4, seed=seed)"
   ]
  },
  {
   "cell_type": "code",
   "execution_count": 49,
   "metadata": {},
   "outputs": [
    {
     "name": "stdout",
     "output_type": "stream",
     "text": [
      "Interation 1: noise ratio 0.1038, copula parameter change 0.0616, likelihood -131.8197\n",
      "Interation 2: noise ratio 0.0986, copula parameter change 0.0062, likelihood -127.7395\n",
      "Convergence achieved at iteration 2\n"
     ]
    }
   ],
   "source": [
    "model = LowRankGaussianCopula(rank=10, verbose=1)\n",
    "Ximp = model.fit_transform(X=X_masked)"
   ]
  },
  {
   "cell_type": "code",
   "execution_count": 50,
   "metadata": {},
   "outputs": [
    {
     "data": {
      "text/plain": [
       "0.5401588687548841"
      ]
     },
     "execution_count": 50,
     "metadata": {},
     "output_type": "execute_result"
    }
   ],
   "source": [
    "get_rmse(x_imp = Ximp, x_true = X, x_obs = X_masked, relative = True)"
   ]
  },
  {
   "cell_type": "code",
   "execution_count": 51,
   "metadata": {},
   "outputs": [],
   "source": [
    "cover_rate = {}\n",
    "for alpha in [0.85, 0.9, 0.95]:\n",
    "    out_confidence_interval = model.get_imputed_confidence_interval(alpha = alpha)\n",
    "    missing_loc = np.isnan(X_masked)\n",
    "    lower, upper = out_confidence_interval['lower'], out_confidence_interval['upper']\n",
    "    cover = (lower[missing_loc] < X[missing_loc]) & (upper[missing_loc] > X[missing_loc])\n",
    "    cover_rate[alpha] = np.array(cover).mean()"
   ]
  },
  {
   "cell_type": "markdown",
   "metadata": {},
   "source": [
    "The returned confidence intervals are slightly lower than the specified coverage rate"
   ]
  },
  {
   "cell_type": "code",
   "execution_count": 52,
   "metadata": {},
   "outputs": [
    {
     "name": "stdout",
     "output_type": "stream",
     "text": [
      "The actual coverage rate is 0.816 with specified coverage rate 0.850\n",
      "The actual coverage rate is 0.868 with specified coverage rate 0.900\n",
      "The actual coverage rate is 0.925 with specified coverage rate 0.950\n"
     ]
    }
   ],
   "source": [
    "for key, val in cover_rate.items():\n",
    "    print(f'The actual coverage rate is {val:.3f} with specified coverage rate {key:.3f}')"
   ]
  },
  {
   "cell_type": "markdown",
   "metadata": {},
   "source": [
    "## Reliability for continuous data under low rank Gaussian copula model"
   ]
  },
  {
   "cell_type": "code",
   "execution_count": 53,
   "metadata": {},
   "outputs": [],
   "source": [
    "reliability = model.get_reliability(Ximp = Ximp)\n",
    "nrmse_by_reliability = error_by_reliability('NRMSE', reliability, \n",
    "                                            xtrue=X, ximp=Ximp)"
   ]
  },
  {
   "cell_type": "markdown",
   "metadata": {},
   "source": [
    " It could happen sometimes the entries with very high reliability (a few top percentiles) are in fact bad, as shown below."
   ]
  },
  {
   "cell_type": "code",
   "execution_count": 54,
   "metadata": {},
   "outputs": [
    {
     "data": {
      "image/png": "[encoded data removed]",
      "text/plain": [
       "<Figure size 432x288 with 1 Axes>"
      ]
     },
     "metadata": {
      "needs_background": "light"
     },
     "output_type": "display_data"
    }
   ],
   "source": [
    "fig,ax = plt.subplots()\n",
    "ax.plot(nrmse_by_reliability)\n",
    "_ = ax.set_ylabel('Imputation NRMSE')\n",
    "_ = ax.set_xlabel('Percentage of entries selected')\n",
    "_ = ax.set_title('On the subset of m% entries with the highest reliability')"
   ]
  },
  {
   "cell_type": "markdown",
   "metadata": {},
   "source": [
    "If we sample smaller number of points in the grid such that each point is evaluated with more data points, the curve looks good again."
   ]
  },
  {
   "cell_type": "code",
   "execution_count": 56,
   "metadata": {},
   "outputs": [
    {
     "data": {
      "image/png": "[encoded data removed]",
      "text/plain": [
       "<Figure size 432x288 with 1 Axes>"
      ]
     },
     "metadata": {
      "needs_background": "light"
     },
     "output_type": "display_data"
    }
   ],
   "source": [
    "nrmse_by_reliability = error_by_reliability('NRMSE', reliability, \n",
    "                                            xtrue=X, ximp=Ximp, num=10)\n",
    "\n",
    "fig,ax = plt.subplots()\n",
    "ax.plot(nrmse_by_reliability)\n",
    "_ = ax.set_ylabel('Imputation NRMSE')\n",
    "_ = ax.set_xlabel('Percentage of entries selected')\n",
    "_ = ax.set_title('On the subset of m% entries with the highest reliability')\n",
    "_ = ax.set_xticks(list(range(10)))\n",
    "_ = ax.set_xticklabels([str(x+1) for x in range(0, 100, 10)])"
   ]
  },
  {
   "cell_type": "markdown",
   "metadata": {},
   "source": [
    "## Reliability for ordinal data under low rank Gaussian copula model"
   ]
  },
  {
   "cell_type": "markdown",
   "metadata": {},
   "source": [
    "### Ordinal variables with ratings 1-5"
   ]
  },
  {
   "cell_type": "code",
   "execution_count": 57,
   "metadata": {},
   "outputs": [],
   "source": [
    "var_types = {'cont':[], 'ord':list(range(200)), 'bin':[]}\n",
    "\n",
    "X, Wtrue = generate_LRGC(var_types=var_types, \n",
    "                             rank=10, sigma=0.1, \n",
    "                             n=500, cont_transform=lambda x:x**3,\n",
    "                             seed=seed)\n",
    "\n",
    "X_masked = mask_MCAR(X, mask_fraction = 0.4, seed=seed)"
   ]
  },
  {
   "cell_type": "code",
   "execution_count": 58,
   "metadata": {},
   "outputs": [
    {
     "name": "stdout",
     "output_type": "stream",
     "text": [
      "Interation 1: noise ratio 0.1602, copula parameter change 0.0477, likelihood -129.4533\n",
      "Interation 2: noise ratio 0.1430, copula parameter change 0.0206, likelihood -121.0197\n",
      "Interation 3: noise ratio 0.1316, copula parameter change 0.0108, likelihood -115.2155\n",
      "Interation 4: noise ratio 0.1236, copula parameter change 0.0066, likelihood -110.9586\n",
      "Convergence achieved at iteration 4\n"
     ]
    }
   ],
   "source": [
    "model = LowRankGaussianCopula(rank=10, verbose=1)\n",
    "Ximp = model.fit_transform(X=X_masked)"
   ]
  },
  {
   "cell_type": "code",
   "execution_count": 59,
   "metadata": {},
   "outputs": [
    {
     "data": {
      "text/plain": [
       "0.239475"
      ]
     },
     "execution_count": 59,
     "metadata": {},
     "output_type": "execute_result"
    }
   ],
   "source": [
    "get_mae(x_imp = Ximp, x_true = X, x_obs = X_masked)"
   ]
  },
  {
   "cell_type": "code",
   "execution_count": 60,
   "metadata": {},
   "outputs": [
    {
     "data": {
      "image/png": "[encoded data removed]",
      "text/plain": [
       "<Figure size 432x288 with 1 Axes>"
      ]
     },
     "metadata": {
      "needs_background": "light"
     },
     "output_type": "display_data"
    }
   ],
   "source": [
    "reliability = model.get_reliability()\n",
    "\n",
    "mae_by_reliability = error_by_reliability('MAE', reliability, \n",
    "                                          xtrue=X, ximp=Ximp)\n",
    "\n",
    "fig,ax = plt.subplots()\n",
    "ax.plot(mae_by_reliability)\n",
    "_ = ax.set_ylabel('Imputation MAE')\n",
    "_ = ax.set_xlabel('Percentage of entries selected')\n",
    "_ = ax.set_title('On the subset of m% entries with the highest reliability')"
   ]
  },
  {
   "cell_type": "markdown",
   "metadata": {},
   "source": [
    "### Binary variables"
   ]
  },
  {
   "cell_type": "code",
   "execution_count": 61,
   "metadata": {},
   "outputs": [],
   "source": [
    "var_types = {'cont':[], 'ord':[], 'bin':list(range(200))}\n",
    "\n",
    "X, Wtrue = generate_LRGC(var_types=var_types, \n",
    "                             rank=10, sigma=0.1, \n",
    "                             n=500, cont_transform=lambda x:x**3,\n",
    "                             seed=seed)\n",
    "\n",
    "X_masked = mask_MCAR(X, mask_fraction = 0.4, seed=seed)"
   ]
  },
  {
   "cell_type": "code",
   "execution_count": 62,
   "metadata": {},
   "outputs": [
    {
     "name": "stdout",
     "output_type": "stream",
     "text": [
      "Interation 1: noise ratio 0.2361, copula parameter change 0.0443, likelihood -134.6028\n",
      "Interation 2: noise ratio 0.2196, copula parameter change 0.0201, likelihood -129.5769\n",
      "Interation 3: noise ratio 0.2067, copula parameter change 0.0128, likelihood -125.4842\n",
      "Interation 4: noise ratio 0.1963, copula parameter change 0.0096, likelihood -122.1233\n",
      "Convergence achieved at iteration 4\n"
     ]
    }
   ],
   "source": [
    "model = LowRankGaussianCopula(rank=10, verbose=1)\n",
    "Ximp = model.fit_transform(X=X_masked)"
   ]
  },
  {
   "cell_type": "code",
   "execution_count": 63,
   "metadata": {},
   "outputs": [
    {
     "data": {
      "image/png": "[encoded data removed]",
      "text/plain": [
       "<Figure size 432x288 with 1 Axes>"
      ]
     },
     "metadata": {
      "needs_background": "light"
     },
     "output_type": "display_data"
    }
   ],
   "source": [
    "reliability = model.get_reliability()\n",
    "\n",
    "mae_by_reliability = error_by_reliability('MAE', reliability, \n",
    "                                          xtrue=X, ximp=Ximp)\n",
    "\n",
    "fig,ax = plt.subplots()\n",
    "ax.plot(mae_by_reliability)\n",
    "_ = ax.set_ylabel('Imputation MAE')\n",
    "_ = ax.set_xlabel('Percentage of entries selected')\n",
    "_ = ax.set_title('On the subset of m% entries with the highest reliability')"
   ]
  }
 ],
 "metadata": {
  "kernelspec": {
   "display_name": "Python 3 (ipykernel)",
   "language": "python",
   "name": "python3"
  },
  "language_info": {
   "codemirror_mode": {
    "name": "ipython",
    "version": 3
   },
   "file_extension": ".py",
   "mimetype": "text/x-python",
   "name": "python",
   "nbconvert_exporter": "python",
   "pygments_lexer": "ipython3",
   "version": "3.7.6"
  }
 },
 "nbformat": 4,
 "nbformat_minor": 4
}
