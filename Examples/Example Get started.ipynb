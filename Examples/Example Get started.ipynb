{
 "cells": [
  {
   "cell_type": "code",
   "execution_count": 1,
   "metadata": {},
   "outputs": [],
   "source": [
    "from GaussianCopulaImp.gaussian_copula import GaussianCopula\n",
    "from GaussianCopulaImp.low_rank_gaussian_copula import LowRankGaussianCopula\n",
    "from GaussianCopulaImp.helper_data_generation import generate_sigma, generate_mixed_from_gc, generate_LRGC, load_GSS\n",
    "from GaussianCopulaImp.helper_evaluation import get_smae, get_scaled_error, grassman_dist\n",
    "from GaussianCopulaImp.helper_mask import mask_types, mask\n",
    "import numpy as np\n",
    "import time\n",
    "import matplotlib.pyplot as plt"
   ]
  },
  {
   "cell_type": "markdown",
   "metadata": {},
   "source": [
    "Two versions of **GaussianCopulaImp** are available: one as a Python package available from PyPI, and the other as a R package (soon available from CRAN). Both versions use the same algorithms and have the same functionality. Here we use the Python version to demonstrate how to use **GaussianCopulaImp** correctly and properly."
   ]
  },
  {
   "cell_type": "markdown",
   "metadata": {},
   "source": [
    "## Quick start"
   ]
  },
  {
   "cell_type": "markdown",
   "metadata": {},
   "source": [
    "As a quick start illustration, we simulate 2000 15-dimensional mixed data instances from a Gaussian copula model with randomly chosen parameters, and then randomly remove 40% entries.\n",
    "\n",
    "The Python package has an API consistent with the `sklearn.impute` module. To impute the missing entries in an incomplete dataset, we simply create a model instance and call `fit_transform(X)` with the default setting. The default choice uses `training_mode='standard'`, which corresponds to the standard EM algorithm in [Our KDD]. "
   ]
  },
  {
   "cell_type": "code",
   "execution_count": 2,
   "metadata": {},
   "outputs": [],
   "source": [
    "copula_corr = generate_sigma(p=15, seed=11)\n",
    "X = generate_mixed_from_gc(sigma=copula_corr, n=2000, seed=11)\n",
    "X_mask = mask_types(X, mask_num=2, seed=11)"
   ]
  },
  {
   "cell_type": "code",
   "execution_count": 3,
   "metadata": {},
   "outputs": [],
   "source": [
    "model = GaussianCopula()\n",
    "Ximp = model.fit_transform(X=X_mask)"
   ]
  },
  {
   "cell_type": "markdown",
   "metadata": {},
   "source": [
    "We use the scaled mean abosulte error (SMAE), the imputation MAE of a method scaled by the imputation MAE of the median imputation, as the imputation evaluation metric and compute it for each data type. As shown below, the Gaussian copula imputation greatly improves over median imputaiton (19%~41%). "
   ]
  },
  {
   "cell_type": "markdown",
   "metadata": {},
   "source": [
    "**add a helper function to simplify output**"
   ]
  },
  {
   "cell_type": "code",
   "execution_count": 4,
   "metadata": {},
   "outputs": [
    {
     "name": "stdout",
     "output_type": "stream",
     "text": [
      "The SMAE across 5 exponential variables has: mean 0.723 and std 0.072\n",
      "The SMAE across 5 1-5 oridnal variables has: mean 0.726 and std 0.050\n",
      "The SMAE across 5 boolean variables has: mean 0.658 and std 0.068\n"
     ]
    }
   ],
   "source": [
    "smae = get_smae(Ximp, X, X_mask)\n",
    "print(f'The SMAE across 5 exponential variables has: mean {smae[:5].mean():.3f} and std {smae[:5].std():.3f}')\n",
    "print(f'The SMAE across 5 1-5 oridnal variables has: mean {smae[5:10].mean():.3f} and std {smae[5:10].std():.3f}')\n",
    "print(f'The SMAE across 5 boolean variables has: mean {smae[10:].mean():.3f} and std {smae[10:].std():.3f}')"
   ]
  },
  {
   "cell_type": "markdown",
   "metadata": {},
   "source": [
    "We can also extract the copula correlation estimate and evaluate its estimation error by $\\frac{||\\hat\\Sigma-\\Sigma||_F}{||\\Sigma||_F}$, where $\\Sigma$ is the true copula correlation used to generate the data and $\\Sigma$ is the estiamte returned."
   ]
  },
  {
   "cell_type": "code",
   "execution_count": 5,
   "metadata": {},
   "outputs": [
    {
     "data": {
      "text/plain": [
       "0.14449154899970149"
      ]
     },
     "execution_count": 5,
     "metadata": {},
     "output_type": "execute_result"
    }
   ],
   "source": [
    "copula_corr_est = model.get_params()['copula_corr']\n",
    "get_scaled_error(copula_corr_est, copula_corr)"
   ]
  },
  {
   "cell_type": "markdown",
   "metadata": {},
   "source": [
    "### Determine the variable types"
   ]
  },
  {
   "cell_type": "markdown",
   "metadata": {},
   "source": [
    "When calling `GaussianCopula()`, the model needs to know which variables are continuous and which are ordinal. Correctly specifying the variable types is very important because the model can fail to converge if a variable having large multiplicity of some value is set as a continuous variable. To see why, the Gaussian copula model assumes that the data has joint normal distribution after some monotonic transformation. However, the multiplicity does not change after transformation. Thus no matter what transformation supplied, the joint normal distribution assumption is seriously violated in the data with large multiplicity. Such problem has also been observed in [Cite Peter Hoff]. We will see a failure example right after introducing how to diagnose the model convergence in next section.\n",
    "\n",
    "If we have domain knowledge on the variable types, we can directly tell the model the continuous varibles' location by `model.fit_transform(cont_indices = cont_indices)` with an array-like variable `cont_indices` consisting of the indices of all continuous variables. If we do not have such prior knowledge, the default setting is there to ease our pain to decide on the variable types. The default setting tries to guess the variable type based on the number of unique values and the occurrence ratio of the mode: a variable is categorized as ordinal if and only if its occurrence ratio of the mode is above the minimal allowed value `min_ord_ratio=10%`. This criterion is developed to avoid that a variable with large multiplicity is treated as continuous. To give more concrete sense, note all variables with no more than 10 ordinal levels will be treated as ordinal. For those variables with more than 10 ordinal levels, the model only treats them as ordinal if the distribution is significantly spiked at some level. We can also change these two thresholds in the call `model=GaussianCopula(min_ord_ratio=0.1)`, if needed. "
   ]
  },
  {
   "cell_type": "markdown",
   "metadata": {},
   "source": [
    "**perhaps interesting to find an example where a variable could be treated either as continuous or ordinal**"
   ]
  },
  {
   "cell_type": "code",
   "execution_count": 6,
   "metadata": {},
   "outputs": [
    {
     "data": {
      "text/plain": [
       "True"
      ]
     },
     "execution_count": 6,
     "metadata": {},
     "output_type": "execute_result"
    }
   ],
   "source": [
    "cont_indices_used = model.cont_indices\n",
    "new_model = GaussianCopula(max_iter=1)\n",
    "_ = new_model.fit_transform(X=X_mask, cont_indices=cont_indices_used)\n",
    "all(new_model.cont_indices == cont_indices_used)"
   ]
  },
  {
   "cell_type": "markdown",
   "metadata": {},
   "source": [
    "### Stopping criterion\n",
    "\n",
    "The package tracks the change of the model parameters as the stopping criterion. Specifically, the algorithm stops when $\\frac{||\\Sigma_{t+1}-\\Sigma_{t}||_F}{||\\Sigma_{t}||_F}$ is below the specified `tol`. The default value  $0.001$ works well in most cases. The default maximal iterations, `max_iter`, is set as $50$. In practice, the algorithm converges in less than 30 iteraitons for most cases.\n",
    "\n",
    "Recall the actual objective value is the marginal likelihood at the observed locations, averaged over all instances. If all variables are continuous, the marginal distribution is actually multivariate Gaussian and thus easy to compute. However, if there exists ordinal variables, the mariginal distribution is very hard to compute. Still, the package provides an approximated likelihood value by treating the ordinal variables as continuous, to help monitor the algorithm convegence. Note the special treatment is not applied to and thus will not hurt the actual algorithm fitting. In most cases and even those where all variables are ordinal, the computed likelihood values are found to be good approximation: it monotonically incraeses during the fitting process and finally converges. The computed likelihood also provides a early stopping criterion: the algorithm will stop if the likelihood values fail to increase by a certain amount (default is $1\\%$). Such early stopping criterion is found to be effective against overfitting.\n",
    "\n",
    "We can monitor the algorithm fitting process through the parameter update ratio and the likelihood value by setting `verbose=1` when creating the model."
   ]
  },
  {
   "cell_type": "code",
   "execution_count": 10,
   "metadata": {},
   "outputs": [
    {
     "name": "stdout",
     "output_type": "stream",
     "text": [
      "Iteration 1: copula correlation update ratio 0.1466, likelihood -3.1101\n",
      "Iteration 2: copula correlation update ratio 0.0935, likelihood -2.8789\n",
      "Iteration 3: copula correlation update ratio 0.0584, likelihood -2.7020\n",
      "Iteration 4: copula correlation update ratio 0.0379, likelihood -2.5678\n",
      "Iteration 5: copula correlation update ratio 0.0259, likelihood -2.4654\n",
      "Iteration 6: copula correlation update ratio 0.0185, likelihood -2.3864\n",
      "Iteration 7: copula correlation update ratio 0.0137, likelihood -2.3245\n",
      "Iteration 8: copula correlation update ratio 0.0103, likelihood -2.2755\n",
      "Iteration 9: copula correlation update ratio 0.0080, likelihood -2.2361\n",
      "Iteration 10: copula correlation update ratio 0.0064, likelihood -2.2040\n",
      "Iteration 11: copula correlation update ratio 0.0051, likelihood -2.1777\n",
      "Iteration 12: copula correlation update ratio 0.0042, likelihood -2.1558\n",
      "Iteration 13: copula correlation update ratio 0.0035, likelihood -2.1375\n",
      "early stop because the likelihood increase is below 0.01\n",
      "Convergence achieved at iteration 13\n"
     ]
    }
   ],
   "source": [
    "model = GaussianCopula(verbose = 1)\n",
    "Ximp = model.fit_transform(X=X_mask)"
   ]
  },
  {
   "cell_type": "markdown",
   "metadata": {},
   "source": [
    "**perhaps add a movielens example**"
   ]
  },
  {
   "cell_type": "markdown",
   "metadata": {},
   "source": [
    "We see the early stopping criterion indeed helpes achieve convergence earlier. Now let see if it actually prevents overfitting or instead causes underfitting. To do so, we simply set the minimal required likelihood increase ratio to 0. After removing the early stopping criterion, the algorithm takes 9 more iterations to achieve convergence. The likelihood values keep climbing at a slow rate (below $1\\%$)."
   ]
  },
  {
   "cell_type": "code",
   "execution_count": null,
   "metadata": {},
   "outputs": [],
   "source": [
    "model_longer = GaussianCopula(likelihood_min_increase=0)\n",
    "Ximp_longer = model_longer.fit_transform(X=X_mask)"
   ]
  },
  {
   "cell_type": "code",
   "execution_count": 14,
   "metadata": {},
   "outputs": [
    {
     "name": "stdout",
     "output_type": "stream",
     "text": [
      "Convergence achieved at 22 iteration\n"
     ]
    },
    {
     "data": {
      "image/png": "[encoded data removed]",
      "text/plain": [
       "<Figure size 432x288 with 1 Axes>"
      ]
     },
     "metadata": {
      "needs_background": "light"
     },
     "output_type": "display_data"
    }
   ],
   "source": [
    "print(f'Convergence achieved at {model_longer.n_iter_} iteration')\n",
    "_ = plt.plot(model_longer.likelihood)"
   ]
  },
  {
   "cell_type": "code",
   "execution_count": 12,
   "metadata": {},
   "outputs": [
    {
     "name": "stdout",
     "output_type": "stream",
     "text": [
      "The SMAE across 5 exponential variables has: mean 0.719 and std 0.073\n",
      "The SMAE across 5 1-5 oridnal variables has: mean 0.725 and std 0.054\n",
      "The SMAE across 5 boolean variables has: mean 0.655 and std 0.069\n",
      "The scaled correlation error is: 0.138\n"
     ]
    }
   ],
   "source": [
    "smae = get_smae(Ximp_longer, X, X_mask)\n",
    "print(f'The SMAE across 5 exponential variables has: mean {smae[:5].mean():.3f} and std {smae[:5].std():.3f}')\n",
    "print(f'The SMAE across 5 1-5 oridnal variables has: mean {smae[5:10].mean():.3f} and std {smae[5:10].std():.3f}')\n",
    "print(f'The SMAE across 5 boolean variables has: mean {smae[10:].mean():.3f} and std {smae[10:].std():.3f}')\n",
    "\n",
    "copula_corr_est = model_longer.get_params()['copula_corr']\n",
    "cor_error = get_scaled_error(copula_corr_est, copula_corr)\n",
    "print(f'The scaled correlation error is: {cor_error:.3f}')"
   ]
  },
  {
   "cell_type": "markdown",
   "metadata": {},
   "source": [
    "Interestingly, the early stopping criterion causes slight underfitting. However, the convergence in late stage is slow and the slight improvement is at the cost of almost twice computation time. Thus whether to use the early stopping criterion should depend on the task. If we just want a pretty good estimator in short time, the default choice `tol=0.001, likelihood_min_increase=0.01` is good to go. If we want to have an estimator that fits the data as well as possible, we could decrease either `tol` (smaller positive) or `likelihood_min_increase` (as low as 0). The particular choice can be tuned using a validation set, but in general the results from the default setting will be very close to a carefully tuned setting. \n",
    "\n",
    "Also, it is observed when the computed likelihood values do not monotonically increase, it indicates that the Gaussian copula model is not well suited to the used dataset. Thus we could also use the computed likelihood values as diagnosis for whether the model assumption is satisfied. In next section, we will see an example when the assumption is violated."
   ]
  },
  {
   "cell_type": "markdown",
   "metadata": {},
   "source": [
    "### A case study on the influence of variable types specification \n",
    "\n",
    "We use eight demographic variables from the 2014 General Social Survey data: age (`AGE`), highest degree (`DEGREE`), income (`RINCOME`), famlily income when 16 years old,general happiness (`INCOM16`),  satisfaction with the work (`SATJOB`), weeks worked last year (`WEEKSWRK`), general happiness (`HAPPY`), condition of health (`HEALTH`). All variables are ordinal variables encoded as integers, although with varying number of ordinal categories. The ordinal categories could be exact numbers such as $0, 1, \\cdots, 52$ for `WEEKSWRK`. It could also be ordered categories, for example 1, 2, 3 for the question \"how would you say things are these days\" (`HAPPY`) correspond to \"Very happy\", \"Pretty happy\", \"Not too happy\".  This dataset comes with many missing values due to anwsers like \"Don't know\", \"No answer\", \"Not applicable\", etc."
   ]
  },
  {
   "cell_type": "code",
   "execution_count": 47,
   "metadata": {},
   "outputs": [
    {
     "data": {
      "image/png": "[encoded data removed]",
      "text/plain": [
       "<Figure size 864x432 with 8 Axes>"
      ]
     },
     "metadata": {
      "needs_background": "light"
     },
     "output_type": "display_data"
    }
   ],
   "source": [
    "cols = ['AGE', 'DEGREE', 'RINCOME', 'INCOM16', 'SATJOB', 'WEEKSWRK', 'HAPPY', 'SOCBAR']\n",
    "data_gss = load_GSS(cols = cols)\n",
    "fig, axes = plt.subplots(2, 4, figsize=(12,6))\n",
    "for i,col in enumerate(data_gss):\n",
    "    data_gss[col].dropna().value_counts().sort_index().plot(kind='bar', ax=axes[i//4, i%4])\n",
    "    axes[i//4, i%4].set_title(f'{col}, {data_gss[col].isna().mean():.2f} missing')\n",
    "plt.tight_layout()"
   ]
  },
  {
   "cell_type": "markdown",
   "metadata": {},
   "source": [
    "Let us first run the Gaussian copula model on this dataset with the default setting. While both `AGE` and `WEEKSWRK` have many ordinal categories, only `AGE` is treated as a continuous variable, as shown below. "
   ]
  },
  {
   "cell_type": "code",
   "execution_count": 48,
   "metadata": {},
   "outputs": [
    {
     "name": "stdout",
     "output_type": "stream",
     "text": [
      "Iteration 1: copula correlation update ratio 0.0795, likelihood -2.5827\n",
      "Iteration 2: copula correlation update ratio 0.0416, likelihood -2.5106\n",
      "Iteration 3: copula correlation update ratio 0.0241, likelihood -2.4745\n",
      "Iteration 4: copula correlation update ratio 0.0149, likelihood -2.4546\n",
      "Early stop because the likelihood increase is below 0.01\n",
      "Convergence achieved at iteration 4\n",
      "Continuous variables: ['AGE']\n"
     ]
    }
   ],
   "source": [
    "m_gss = GaussianCopula(verbose=1)\n",
    "Ximp_gss = m_gss.fit_transform(data_gss)\n",
    "print(f'Continuous variables: {m_gss.features_names[m_gss.cont_indices]}')"
   ]
  },
  {
   "cell_type": "markdown",
   "metadata": {},
   "source": [
    "Recall `GaussianCopula()` looks at the mode occurence frequency to distinguish continuous variables from ordinal: only those variables whose mode occurence frequency is below $0.1$ (in the default setting) are continuous. We could also manually compute those numbers:"
   ]
  },
  {
   "cell_type": "code",
   "execution_count": 50,
   "metadata": {},
   "outputs": [
    {
     "data": {
      "text/plain": [
       "AGE         0.023725\n",
       "DEGREE      0.500000\n",
       "RINCOME     0.624425\n",
       "INCOM16     0.446486\n",
       "SATJOB      0.504485\n",
       "WEEKSWRK    0.436530\n",
       "HAPPY       0.554545\n",
       "SOCBAR      0.264706\n",
       "dtype: float64"
      ]
     },
     "execution_count": 50,
     "metadata": {},
     "output_type": "execute_result"
    }
   ],
   "source": [
    "data_gss.apply(lambda x: x.dropna().value_counts(normalize=True).max())"
   ]
  },
  {
   "cell_type": "markdown",
   "metadata": {},
   "source": [
    "Now it is clear why only `AGE` is treated as continuous. While `WEEKSWRK` has many ordinal categories, it is mostly appearing in two cateories: 0 and 52, and thus has large mode occurence frequency $0.44$. In contrast, the probability mass of `AGE` is more spreaded out and thus it has a much smaller mode occurence frequency $0.02$. But what happens if we insist on setting `WEEKWRK` as an ordinal variable? The answer is that the algorithm may diverge and the likelihood values do not increase during the fitting, as shown below."
   ]
  },
  {
   "cell_type": "code",
   "execution_count": 49,
   "metadata": {},
   "outputs": [
    {
     "name": "stdout",
     "output_type": "stream",
     "text": [
      "Iteration 1: copula correlation update ratio 0.0928, likelihood -4.8781\n",
      "Iteration 2: copula correlation update ratio 0.0567, likelihood -4.9230\n",
      "Iteration 3: copula correlation update ratio 0.0376, likelihood -4.9886\n",
      "Iteration 4: copula correlation update ratio 0.0260, likelihood -5.0622\n",
      "Iteration 5: copula correlation update ratio 0.0187, likelihood -5.1320\n",
      "Iteration 6: copula correlation update ratio 0.0149, likelihood -5.1898\n",
      "Iteration 7: copula correlation update ratio 0.0142, likelihood -5.2339\n",
      "Iteration 8: copula correlation update ratio 0.0158, likelihood -5.2673\n",
      "Iteration 9: copula correlation update ratio 0.0185, likelihood -5.2951\n",
      "Iteration 10: copula correlation update ratio 0.0214, likelihood -5.3222\n",
      "Convergence not achieved at maximum iterations\n",
      "Continuous variables: ['AGE' 'WEEKSWRK']\n"
     ]
    }
   ],
   "source": [
    "m_gss_v2 = GaussianCopula(verbose=1, max_iter=10)\n",
    "Ximp_gss_v2 = m_gss_v2.fit_transform(data_gss, cont_indices = [0, 5])\n",
    "print(f'Continuous variables: {m_gss_v2.features_names[m_gss_v2.cont_indices]}')"
   ]
  },
  {
   "cell_type": "markdown",
   "metadata": {},
   "source": [
    "We stopped the algorithm after 10 iterations since it already started to diverge. The result is quite surprising that changing a single variable's type can make the whole algorithm diverge. It is a strong notice that we need to specify data types properly. Luckily, the default setting is found to work well. Another thing we can learn here is that the computed likelihood indeed indicates how well the Gaussian copula model fits the data. If we see that the likelihood values do not monotonically increase during the fitting, it is a signal that the Gaussian copula model may not fit the data well, even when the algorithm actually converges. "
   ]
  },
  {
   "cell_type": "markdown",
   "metadata": {},
   "source": [
    "## Acceleration through parallelism, minibatch training, and low rank structure\n",
    "\n",
    "Running `GaussianCopula()` with default setting (`training_mode='standard'`) has computational complexity $O(np^3)$ for each EM iteration. However, we can achieve great amount of acceleration if using it cleverly. \n",
    "To speed up the model's execution, three tools are provided: parallelism, minibatch training and low rank structure.\n",
    "\n",
    "Parallelism is the most straightforward and the easiest acceleration tool to use. By calling `GaussianCopula(n_jobs=k)`, we can distribute the computation across $n$ rows using $k$ cores. It is best suited for datasets with large $n$ and small $p$. \n",
    "\n",
    "Minibatch training, invoking by calling `GaussianCopula(training_mode='minibatch-offline')`, also aims to accelerate the model's exceution for large $n$ and small $p$ problem. It randomly shuffles the data and divide them into minibatches, and then perform model updates at each minibatch. The algorithm converges much faster as the model is updated more frequently. It can also be used together with parallelism to distribute the computation across all rows inside a minibatch. Although it requires additional work to choose the learning rates, batch size and a different stopping criterion, we will see the selection is not that difficult shortly.\n",
    "\n",
    "Low rank structure is developed for large $p$ problem where the $O(np^3)$ computation is unaffordable. The model created by calling `LowRankGaussianCopula(rank=k)` has $O(npk^2)$ complexity per iteration. It also supports parallelism by specifying `n_jobs`, and the computation is distributed over all rows and all columns. Unfortunately, the minibatch training for `LowRankGaussianCopula()` is nontrivial and has not yet been developed. Still, if working with large $n$ and large $p$ dataset, using `LowRankGaussianCopula()` with parallelism should be satisfying.\n",
    "\n",
    "For the following, we give guidelines on how to use each acceleration tool properly."
   ]
  },
  {
   "cell_type": "markdown",
   "metadata": {},
   "source": [
    "### Acceleration for large $n$ problem: minibatch training\n",
    "\n",
    "For large n problem, the users can use minibatch EM [our online] to conduct more frequent model updates and thus achieve fast convergence. Recall at each EM iteration, the update rule is $\\Sigma_{t+1}=(1-\\eta_{t+1})\\Sigma_t+\\eta_{t+1}\\hat\\Sigma$, where $\\Sigma_t$ is the model estiamte at iteration $t$, $\\hat \\Sigma$ is the new estiamte on the used minibatch and $\\eta_t$ is the step size. Thus to use minibatch training, one needs to specify the decaying step size $\\{\\eta_t\\}$, the minibatch size $s$ and the number of iterations $k$ to run. \n",
    "\n",
    "On the selection of batch size $s$, the online update rule requires $s\\geq p$ to avoid singular matrix operation [our online], although we observe vilation of this requirement does not necessarily break down the algorithm. For the task of accelerating the algorithm, there should be no pain to satisfy $s\\geq p$, since if $p$ is too large, the user should use a `LowRankGaussianCopula()` model instead. After fixing the batch size, we recommend to select the maximum number of iterations based on the number of passes desired, i.e. $k=\\left \\lceil{\\frac{n}{s}}\\right \\rceil  \\times n_{\\textit{pass}}$. Often we find using $n_{\\textit{pass}}=2 \\mbox{ or }3$ gives good enough results.\n",
    "\n",
    "According to [online EM and our online], the decayling step size should satisfy $\\sum_{t=1}^\\infty \\eta_t=\\infty$ and $\\sum_{t=1}^\\infty \\eta_t^2<\\infty$. To conveniently ensure $\\eta_t \\in (0, 1)$ for all $t$, we recommend use $\\eta_t = c/(c+t)$ with $c>0$. Roughly speaking, the model receives $50\\%$ udpate at $c$-th iteration and $5\\%$ update at $19c$-th iteration, when $c$ is an integer. We recommend to tune $c$ in the range $(0, 10)$, but a value of $5$ works well in many settings we experimented. \n",
    "\n",
    "To use the default setting of step size $\\eta_t=5/(t+5)$, minibatch size $s=100$ and the maximum number of iterations $k=\\left \\lceil{\\frac{n}{s}}\\right \\rceil  \\times 2$, simple run the following:"
   ]
  },
  {
   "cell_type": "code",
   "execution_count": 3,
   "metadata": {},
   "outputs": [
    {
     "name": "stdout",
     "output_type": "stream",
     "text": [
      "The number of maximum iteration is set as 40 to have 2 passes over all data\n",
      "Iteration 1: copula correlation update ratio 0.177, likelihood -3.110\n",
      "Iteration 2: copula correlation update ratio 0.133, likelihood -3.060\n",
      "Iteration 3: copula correlation update ratio 0.147, likelihood -3.191\n",
      "Iteration 4: copula correlation update ratio 0.143, likelihood -2.813\n",
      "Iteration 5: copula correlation update ratio 0.093, likelihood -2.487\n",
      "Iteration 6: copula correlation update ratio 0.100, likelihood -2.990\n",
      "Iteration 7: copula correlation update ratio 0.066, likelihood -2.383\n",
      "Iteration 8: copula correlation update ratio 0.068, likelihood -2.487\n",
      "Iteration 9: copula correlation update ratio 0.054, likelihood -2.409\n",
      "Iteration 10: copula correlation update ratio 0.051, likelihood -2.559\n",
      "Iteration 11: copula correlation update ratio 0.051, likelihood -2.518\n",
      "Iteration 12: copula correlation update ratio 0.051, likelihood -2.450\n",
      "Iteration 13: copula correlation update ratio 0.052, likelihood -2.750\n",
      "Iteration 14: copula correlation update ratio 0.043, likelihood -2.270\n",
      "Iteration 15: copula correlation update ratio 0.045, likelihood -2.617\n",
      "Iteration 16: copula correlation update ratio 0.038, likelihood -2.664\n",
      "Iteration 17: copula correlation update ratio 0.040, likelihood -2.337\n",
      "Iteration 18: copula correlation update ratio 0.032, likelihood -2.588\n",
      "Iteration 19: copula correlation update ratio 0.031, likelihood -2.433\n",
      "Iteration 20: copula correlation update ratio 0.031, likelihood -2.507\n",
      "Iteration 21: copula correlation update ratio 0.033, likelihood -2.326\n",
      "Iteration 22: copula correlation update ratio 0.031, likelihood -2.489\n",
      "Iteration 23: copula correlation update ratio 0.038, likelihood -2.663\n",
      "Iteration 24: copula correlation update ratio 0.042, likelihood -2.454\n",
      "Iteration 25: copula correlation update ratio 0.029, likelihood -2.201\n",
      "Iteration 26: copula correlation update ratio 0.033, likelihood -2.678\n",
      "Iteration 27: copula correlation update ratio 0.024, likelihood -2.171\n",
      "Iteration 28: copula correlation update ratio 0.026, likelihood -2.251\n",
      "Iteration 29: copula correlation update ratio 0.022, likelihood -2.245\n",
      "Iteration 30: copula correlation update ratio 0.020, likelihood -2.343\n",
      "Iteration 31: copula correlation update ratio 0.022, likelihood -2.339\n",
      "Iteration 32: copula correlation update ratio 0.023, likelihood -2.297\n",
      "Iteration 33: copula correlation update ratio 0.024, likelihood -2.602\n",
      "Iteration 34: copula correlation update ratio 0.021, likelihood -2.122\n",
      "Iteration 35: copula correlation update ratio 0.023, likelihood -2.481\n",
      "Iteration 36: copula correlation update ratio 0.018, likelihood -2.514\n",
      "Iteration 37: copula correlation update ratio 0.020, likelihood -2.234\n",
      "Iteration 38: copula correlation update ratio 0.016, likelihood -2.448\n",
      "Iteration 39: copula correlation update ratio 0.016, likelihood -2.331\n",
      "Iteration 40: copula correlation update ratio 0.017, likelihood -2.408\n",
      "Convergence not achieved at maximum iterations\n"
     ]
    }
   ],
   "source": [
    "model_minibatch = GaussianCopula(training_mode='minibatch-offline', verbose=1)\n",
    "Ximp = model_minibatch.fit_transform(X=X_mask)"
   ]
  },
  {
   "cell_type": "code",
   "execution_count": 5,
   "metadata": {},
   "outputs": [
    {
     "name": "stdout",
     "output_type": "stream",
     "text": [
      "The SMAE across 5 exponential variables has: mean 0.740 and std 0.049\n",
      "The SMAE across 5 1-5 oridnal variables has: mean 0.823 and std 0.125\n",
      "The SMAE across 5 boolean variables has: mean 0.589 and std 0.045\n",
      "The scaled correlation error is: 0.156\n"
     ]
    }
   ],
   "source": [
    "smae = get_smae(Ximp, X, X_mask)\n",
    "print(f'The SMAE across 5 exponential variables has: mean {smae[:5].mean():.3f} and std {smae[:5].std():.3f}')\n",
    "print(f'The SMAE across 5 1-5 oridnal variables has: mean {smae[5:10].mean():.3f} and std {smae[5:10].std():.3f}')\n",
    "print(f'The SMAE across 5 boolean variables has: mean {smae[10:].mean():.3f} and std {smae[10:].std():.3f}')\n",
    "\n",
    "copula_corr_est = model_minibatch.get_params()['copula_corr']\n",
    "cor_error = get_scaled_error(copula_corr_est, copula_corr)\n",
    "print(f'The scaled correlation error is: {cor_error:.3f}')"
   ]
  },
  {
   "cell_type": "markdown",
   "metadata": {},
   "source": [
    "The user could also supply their own choice of step size, minibatch size and the maximum number of iterations, as the following example."
   ]
  },
  {
   "cell_type": "code",
   "execution_count": 9,
   "metadata": {},
   "outputs": [
    {
     "name": "stdout",
     "output_type": "stream",
     "text": [
      "The number of maximum iteration is set as 60 to have 3 passes over all data\n",
      "Iteration 1: copula correlation update ratio 0.177, likelihood -3.110\n",
      "Iteration 2: copula correlation update ratio 0.133, likelihood -3.060\n",
      "Iteration 3: copula correlation update ratio 0.147, likelihood -3.191\n",
      "Iteration 4: copula correlation update ratio 0.143, likelihood -2.813\n",
      "Iteration 5: copula correlation update ratio 0.093, likelihood -2.487\n",
      "Iteration 6: copula correlation update ratio 0.100, likelihood -2.990\n",
      "Iteration 7: copula correlation update ratio 0.066, likelihood -2.383\n",
      "Iteration 8: copula correlation update ratio 0.068, likelihood -2.487\n",
      "Iteration 9: copula correlation update ratio 0.054, likelihood -2.409\n",
      "Iteration 10: copula correlation update ratio 0.051, likelihood -2.559\n",
      "Iteration 11: copula correlation update ratio 0.051, likelihood -2.518\n",
      "Iteration 12: copula correlation update ratio 0.051, likelihood -2.450\n",
      "Iteration 13: copula correlation update ratio 0.052, likelihood -2.750\n",
      "Iteration 14: copula correlation update ratio 0.043, likelihood -2.270\n",
      "Iteration 15: copula correlation update ratio 0.045, likelihood -2.617\n",
      "Iteration 16: copula correlation update ratio 0.038, likelihood -2.664\n",
      "Iteration 17: copula correlation update ratio 0.040, likelihood -2.337\n",
      "Iteration 18: copula correlation update ratio 0.032, likelihood -2.588\n",
      "Iteration 19: copula correlation update ratio 0.031, likelihood -2.433\n",
      "Iteration 20: copula correlation update ratio 0.031, likelihood -2.507\n",
      "Iteration 21: copula correlation update ratio 0.033, likelihood -2.326\n",
      "Iteration 22: copula correlation update ratio 0.031, likelihood -2.489\n",
      "Iteration 23: copula correlation update ratio 0.038, likelihood -2.663\n",
      "Iteration 24: copula correlation update ratio 0.042, likelihood -2.454\n",
      "Iteration 25: copula correlation update ratio 0.029, likelihood -2.201\n",
      "Iteration 26: copula correlation update ratio 0.033, likelihood -2.678\n",
      "Iteration 27: copula correlation update ratio 0.024, likelihood -2.171\n",
      "Iteration 28: copula correlation update ratio 0.026, likelihood -2.251\n",
      "Iteration 29: copula correlation update ratio 0.022, likelihood -2.245\n",
      "Iteration 30: copula correlation update ratio 0.020, likelihood -2.343\n",
      "Iteration 31: copula correlation update ratio 0.022, likelihood -2.339\n",
      "Iteration 32: copula correlation update ratio 0.023, likelihood -2.297\n",
      "Iteration 33: copula correlation update ratio 0.024, likelihood -2.602\n",
      "Iteration 34: copula correlation update ratio 0.021, likelihood -2.122\n",
      "Iteration 35: copula correlation update ratio 0.023, likelihood -2.481\n",
      "Iteration 36: copula correlation update ratio 0.018, likelihood -2.514\n",
      "Iteration 37: copula correlation update ratio 0.020, likelihood -2.234\n",
      "Iteration 38: copula correlation update ratio 0.016, likelihood -2.448\n",
      "Iteration 39: copula correlation update ratio 0.016, likelihood -2.331\n",
      "Iteration 40: copula correlation update ratio 0.017, likelihood -2.408\n",
      "Iteration 41: copula correlation update ratio 0.019, likelihood -2.254\n",
      "Iteration 42: copula correlation update ratio 0.017, likelihood -2.428\n",
      "Iteration 43: copula correlation update ratio 0.022, likelihood -2.596\n",
      "Iteration 44: copula correlation update ratio 0.025, likelihood -2.399\n",
      "Iteration 45: copula correlation update ratio 0.017, likelihood -2.152\n",
      "Iteration 46: copula correlation update ratio 0.020, likelihood -2.618\n",
      "Iteration 47: copula correlation update ratio 0.014, likelihood -2.120\n",
      "Iteration 48: copula correlation update ratio 0.016, likelihood -2.200\n",
      "Iteration 49: copula correlation update ratio 0.014, likelihood -2.204\n",
      "Iteration 50: copula correlation update ratio 0.012, likelihood -2.287\n",
      "Iteration 51: copula correlation update ratio 0.014, likelihood -2.294\n",
      "Iteration 52: copula correlation update ratio 0.015, likelihood -2.251\n",
      "Iteration 53: copula correlation update ratio 0.016, likelihood -2.554\n",
      "Iteration 54: copula correlation update ratio 0.014, likelihood -2.082\n",
      "Iteration 55: copula correlation update ratio 0.015, likelihood -2.431\n",
      "Iteration 56: copula correlation update ratio 0.012, likelihood -2.475\n",
      "Iteration 57: copula correlation update ratio 0.013, likelihood -2.194\n",
      "Iteration 58: copula correlation update ratio 0.011, likelihood -2.406\n",
      "Iteration 59: copula correlation update ratio 0.011, likelihood -2.288\n",
      "Iteration 60: copula correlation update ratio 0.012, likelihood -2.365\n",
      "Convergence not achieved at maximum iterations\n"
     ]
    }
   ],
   "source": [
    "model_minibatch = GaussianCopula(training_mode='minibatch-offline', \n",
    "                                 stepsize_func = lambda t, c=5:c/(c+t),\n",
    "                                 batch_size = 100,\n",
    "                                 num_pass = 3,\n",
    "                                 verbose = 1\n",
    "                                )\n",
    "Ximp = model_minibatch.fit_transform(X=X_mask)"
   ]
  },
  {
   "cell_type": "code",
   "execution_count": 10,
   "metadata": {},
   "outputs": [
    {
     "name": "stdout",
     "output_type": "stream",
     "text": [
      "The SMAE across 5 exponential variables has: mean 0.737 and std 0.048\n",
      "The SMAE across 5 1-5 oridnal variables has: mean 0.816 and std 0.124\n",
      "The SMAE across 5 boolean variables has: mean 0.590 and std 0.048\n",
      "The scaled correlation error is: 0.150\n"
     ]
    }
   ],
   "source": [
    "smae = get_smae(Ximp, X, X_mask)\n",
    "print(f'The SMAE across 5 exponential variables has: mean {smae[:5].mean():.3f} and std {smae[:5].std():.3f}')\n",
    "print(f'The SMAE across 5 1-5 oridnal variables has: mean {smae[5:10].mean():.3f} and std {smae[5:10].std():.3f}')\n",
    "print(f'The SMAE across 5 boolean variables has: mean {smae[10:].mean():.3f} and std {smae[10:].std():.3f}')\n",
    "\n",
    "copula_corr_est = model_minibatch.get_params()['copula_corr']\n",
    "cor_error = get_scaled_error(copula_corr_est, copula_corr)\n",
    "print(f'The scaled correlation error is: {cor_error:.3f}')"
   ]
  },
  {
   "cell_type": "markdown",
   "metadata": {},
   "source": [
    "On this simulated dataset, the minibatch training mode with 2 passes has achieved very close results compared to the standard training mode using only $24\\%$ runtime. Increasing the number of passes to 3 brings slight improvement in model parameter estimation accuracy and imputaiton accuracy on the continuous and ordinal variables. The particular choice of the number of passes can be decided based on the user's preference on the tradeoff between runtime and accuracy."
   ]
  },
  {
   "cell_type": "code",
   "execution_count": null,
   "metadata": {},
   "outputs": [],
   "source": [
    "m1 = GaussianCopula()\n",
    "m2 = GaussianCopula(training_mode='minibatch-offline', num_pass = 2)\n",
    "m3 = GaussianCopula(training_mode='minibatch-offline', num_pass = 3)\n",
    "t0 = time.time()\n",
    "_ = m1.fit_transform(X=X_mask)\n",
    "t1 = time.time()\n",
    "_ = m2.fit_transform(X=X_mask)\n",
    "t2 = time.time()\n",
    "_ = m3.fit_transform(X=X_mask)\n",
    "t3 = time.time()"
   ]
  },
  {
   "cell_type": "code",
   "execution_count": 14,
   "metadata": {},
   "outputs": [
    {
     "name": "stdout",
     "output_type": "stream",
     "text": [
      "Standard mode takes 59.0s, while minibatch mode takes 14.0 with 2 passes and 21.4 with 3 passes\n"
     ]
    }
   ],
   "source": [
    "print(f'Standard mode takes {t1-t0:.1f}s, while minibatch mode takes {t2-t1:.1f} with 2 passes and {t3-t2:.1f} with 3 passes')"
   ]
  },
  {
   "cell_type": "markdown",
   "metadata": {},
   "source": [
    "### Acceleration for large $p$ problem: low rank structure"
   ]
  },
  {
   "cell_type": "code",
   "execution_count": 15,
   "metadata": {},
   "outputs": [],
   "source": [
    "seed = 101\n",
    "var_types = {'cont':list(range(100)), 'ord':list(range(100, 150, 1)), 'bin':list(range(150, 200, 1))}\n",
    "Xtrue, Wtrue = generate_LRGC(var_types=var_types, \n",
    "                             rank=10, \n",
    "                             sigma=0.1, \n",
    "                             n=2000, \n",
    "                             cont_transform=lambda x: np.power(x,3),\n",
    "                             seed=seed)"
   ]
  },
  {
   "cell_type": "code",
   "execution_count": 16,
   "metadata": {},
   "outputs": [],
   "source": [
    "np.random.seed(seed)\n",
    "X_masked = mask(Xtrue, mask_fraction = 0.4, seed=seed)"
   ]
  },
  {
   "cell_type": "code",
   "execution_count": 17,
   "metadata": {},
   "outputs": [],
   "source": [
    "model_lrgc = LowRankGaussianCopula(rank=10, verbose=1)"
   ]
  },
  {
   "cell_type": "code",
   "execution_count": 18,
   "metadata": {},
   "outputs": [
    {
     "name": "stdout",
     "output_type": "stream",
     "text": [
      "Ater initialization, W has shape (200, 10) and sigma is 0.21016169823236375\n",
      "Interation 1: noise ratio estimate 0.136, copula parameter update ratio 0.063, likelihood 126.387\n",
      "Interation 2: noise ratio estimate 0.114, copula parameter update ratio 0.017, likelihood 172.965\n",
      "Interation 3: noise ratio estimate 0.106, copula parameter update ratio 0.008, likelihood 190.359\n",
      "Interation 4: noise ratio estimate 0.103, copula parameter update ratio 0.005, likelihood 197.334\n",
      "Interation 5: noise ratio estimate 0.102, copula parameter update ratio 0.004, likelihood 200.288\n",
      "early stop because changed likelihood below 1%\n"
     ]
    }
   ],
   "source": [
    "Ximp = model_lrgc.fit_transform(X=X_masked)"
   ]
  },
  {
   "cell_type": "code",
   "execution_count": 19,
   "metadata": {},
   "outputs": [
    {
     "name": "stdout",
     "output_type": "stream",
     "text": [
      "The SMAE across 5 exponential variables has: mean 0.500 and std 0.024\n",
      "The SMAE across 5 1-5 oridnal variables has: mean 0.365 and std 0.036\n",
      "The SMAE across 5 boolean variables has: mean 0.262 and std 0.033\n"
     ]
    }
   ],
   "source": [
    "smae = get_smae(Ximp, Xtrue, X_masked)\n",
    "\n",
    "print(f'The SMAE across 5 exponential variables has: mean {smae[:100].mean():.3f} and std {smae[:100].std():.3f}')\n",
    "print(f'The SMAE across 5 1-5 oridnal variables has: mean {smae[100:150].mean():.3f} and std {smae[100:150].std():.3f}')\n",
    "print(f'The SMAE across 5 boolean variables has: mean {smae[150:].mean():.3f} and std {smae[150:].std():.3f}')"
   ]
  },
  {
   "cell_type": "code",
   "execution_count": 20,
   "metadata": {},
   "outputs": [
    {
     "name": "stdout",
     "output_type": "stream",
     "text": [
      "The latent subspace estimation error is: 0.159\n"
     ]
    }
   ],
   "source": [
    "copula_factor_loading = model_lrgc.get_params()['copula_factor_loading']\n",
    "cor_error = grassman_dist(copula_factor_loading, Wtrue)\n",
    "print(f'The latent subspace estimation error is: {cor_error[0]:.3f}')"
   ]
  },
  {
   "cell_type": "markdown",
   "metadata": {},
   "source": [
    "### Acceleration for all tasks: parallelism"
   ]
  },
  {
   "cell_type": "markdown",
   "metadata": {},
   "source": [
    "## Online tasks"
   ]
  },
  {
   "cell_type": "code",
   "execution_count": 9,
   "metadata": {},
   "outputs": [],
   "source": [
    "model_online = GaussianCopula(training_mode='minibatch-online', cont_indices=[True]*5+[False]*10)\n",
    "Ximp = model_online.fit_transform(X=X_mask)"
   ]
  },
  {
   "cell_type": "code",
   "execution_count": 10,
   "metadata": {},
   "outputs": [
    {
     "name": "stdout",
     "output_type": "stream",
     "text": [
      "The SMAE across 5 exponential variables has: mean 0.821 and std 0.034\n",
      "The SMAE across 5 1-5 oridnal variables has: mean 0.908 and std 0.067\n",
      "The SMAE across 5 boolean variables has: mean 0.665 and std 0.033\n"
     ]
    }
   ],
   "source": [
    "smae = get_smae(Ximp, X, X_mask)\n",
    "\n",
    "print(f'The SMAE across 5 exponential variables has: mean {smae[:5].mean():.3f} and std {smae[:5].std():.3f}')\n",
    "print(f'The SMAE across 5 1-5 oridnal variables has: mean {smae[5:10].mean():.3f} and std {smae[5:10].std():.3f}')\n",
    "print(f'The SMAE across 5 boolean variables has: mean {smae[10:].mean():.3f} and std {smae[10:].std():.3f}')"
   ]
  },
  {
   "cell_type": "code",
   "execution_count": 11,
   "metadata": {
    "scrolled": true
   },
   "outputs": [
    {
     "name": "stdout",
     "output_type": "stream",
     "text": [
      "The scaled correlation error is: 0.192\n"
     ]
    }
   ],
   "source": [
    "copula_corr_est = model_online.get_params()['copula_corr']\n",
    "\n",
    "cor_error = get_scaled_error(copula_corr_est, copula_corr)\n",
    "print(f'The scaled correlation error is: {cor_error:.3f}')"
   ]
  },
  {
   "cell_type": "code",
   "execution_count": 12,
   "metadata": {},
   "outputs": [],
   "source": [
    "model_online_decay = GaussianCopula(training_mode='minibatch-online', \n",
    "                                    cont_indices=[True]*5+[False]*10, \n",
    "                                    const_stepsize=None, \n",
    "                                    verbose = 1)\n",
    "Ximp = model_online_decay.fit_transform(X=X_mask)"
   ]
  },
  {
   "cell_type": "code",
   "execution_count": 13,
   "metadata": {},
   "outputs": [
    {
     "name": "stdout",
     "output_type": "stream",
     "text": [
      "The SMAE across 5 exponential variables has: mean 0.817 and std 0.037\n",
      "The SMAE across 5 1-5 oridnal variables has: mean 0.896 and std 0.074\n",
      "The SMAE across 5 boolean variables has: mean 0.657 and std 0.042\n"
     ]
    }
   ],
   "source": [
    "smae = get_smae(Ximp, X, X_mask)\n",
    "\n",
    "print(f'The SMAE across 5 exponential variables has: mean {smae[:5].mean():.3f} and std {smae[:5].std():.3f}')\n",
    "print(f'The SMAE across 5 1-5 oridnal variables has: mean {smae[5:10].mean():.3f} and std {smae[5:10].std():.3f}')\n",
    "print(f'The SMAE across 5 boolean variables has: mean {smae[10:].mean():.3f} and std {smae[10:].std():.3f}')"
   ]
  },
  {
   "cell_type": "code",
   "execution_count": 14,
   "metadata": {},
   "outputs": [
    {
     "name": "stdout",
     "output_type": "stream",
     "text": [
      "The scaled correlation error is: 0.196\n"
     ]
    }
   ],
   "source": [
    "copula_corr_est = model_online_decay.get_params()['copula_corr']\n",
    "\n",
    "cor_error = get_scaled_error(copula_corr_est, copula_corr)\n",
    "print(f'The scaled correlation error is: {cor_error:.3f}')"
   ]
  }
 ],
 "metadata": {
  "kernelspec": {
   "display_name": "Python 3",
   "language": "python",
   "name": "python3"
  },
  "language_info": {
   "codemirror_mode": {
    "name": "ipython",
    "version": 3
   },
   "file_extension": ".py",
   "mimetype": "text/x-python",
   "name": "python",
   "nbconvert_exporter": "python",
   "pygments_lexer": "ipython3",
   "version": "3.7.6"
  }
 },
 "nbformat": 4,
 "nbformat_minor": 4
}
