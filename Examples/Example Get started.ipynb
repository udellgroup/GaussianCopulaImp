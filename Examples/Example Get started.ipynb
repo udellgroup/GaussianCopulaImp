{
 "cells": [
  {
   "cell_type": "code",
   "execution_count": 1,
   "metadata": {},
   "outputs": [],
   "source": [
    "from GaussianCopulaImp.gaussian_copula import GaussianCopula\n",
    "from GaussianCopulaImp.low_rank_gaussian_copula import LowRankGaussianCopula\n",
    "from GaussianCopulaImp.helper_data_generation import generate_sigma, generate_mixed_from_gc, generate_LRGC\n",
    "from GaussianCopulaImp.helper_evaluation import get_smae, get_scaled_error, grassman_dist\n",
    "from GaussianCopulaImp.helper_mask import mask_types, mask\n",
    "import numpy as np"
   ]
  },
  {
   "cell_type": "code",
   "execution_count": 2,
   "metadata": {},
   "outputs": [],
   "source": [
    "seed = 101\n",
    "copula_corr = generate_sigma(seed=seed, p=15)\n",
    "X = generate_mixed_from_gc(sigma=copula_corr, n=2000, seed=seed)\n",
    "X_mask = mask_types(X, mask_num=2, seed=seed)"
   ]
  },
  {
   "cell_type": "code",
   "execution_count": 3,
   "metadata": {},
   "outputs": [
    {
     "name": "stdout",
     "output_type": "stream",
     "text": [
      "Iteration 1: copula correlation update ratio 0.126, likelihood -3.181\n",
      "Copula correlation change ratio:  0.126\n",
      "Iteration 2: copula correlation update ratio 0.086, likelihood -2.978\n",
      "Copula correlation change ratio:  0.0856\n",
      "Iteration 3: copula correlation update ratio 0.057, likelihood -2.817\n",
      "Copula correlation change ratio:  0.0569\n",
      "Iteration 4: copula correlation update ratio 0.038, likelihood -2.690\n",
      "Copula correlation change ratio:  0.0382\n",
      "Iteration 5: copula correlation update ratio 0.026, likelihood -2.591\n",
      "Copula correlation change ratio:  0.0264\n",
      "Iteration 6: copula correlation update ratio 0.019, likelihood -2.513\n",
      "Copula correlation change ratio:  0.0188\n",
      "Iteration 7: copula correlation update ratio 0.014, likelihood -2.451\n",
      "Copula correlation change ratio:  0.0138\n",
      "Iteration 8: copula correlation update ratio 0.010, likelihood -2.402\n",
      "Copula correlation change ratio:  0.0105\n",
      "Iteration 9: copula correlation update ratio 0.008, likelihood -2.363\n",
      "Copula correlation change ratio:  0.0081\n",
      "Convergence achieved at iteration 9\n"
     ]
    }
   ],
   "source": [
    "model = GaussianCopula(verbose = 1)\n",
    "Ximp = model.fit_transform(X=X_mask)"
   ]
  },
  {
   "cell_type": "code",
   "execution_count": 4,
   "metadata": {},
   "outputs": [
    {
     "name": "stdout",
     "output_type": "stream",
     "text": [
      "The SMAE across 5 exponential variables has: mean 0.740 and std 0.048\n",
      "The SMAE across 5 1-5 oridnal variables has: mean 0.812 and std 0.121\n",
      "The SMAE across 5 boolean variables has: mean 0.590 and std 0.047\n"
     ]
    }
   ],
   "source": [
    "smae = get_smae(Ximp, X, X_mask)\n",
    "print(f'The SMAE across 5 exponential variables has: mean {smae[:5].mean():.3f} and std {smae[:5].std():.3f}')\n",
    "print(f'The SMAE across 5 1-5 oridnal variables has: mean {smae[5:10].mean():.3f} and std {smae[5:10].std():.3f}')\n",
    "print(f'The SMAE across 5 boolean variables has: mean {smae[10:].mean():.3f} and std {smae[10:].std():.3f}')"
   ]
  },
  {
   "cell_type": "code",
   "execution_count": 5,
   "metadata": {},
   "outputs": [
    {
     "name": "stdout",
     "output_type": "stream",
     "text": [
      "The scaled correlation error is: 0.149\n"
     ]
    }
   ],
   "source": [
    "copula_corr_est = model.get_params()['copula_corr']\n",
    "cor_error = get_scaled_error(copula_corr_est, copula_corr)\n",
    "print(f'The scaled correlation error is: {cor_error:.3f}')"
   ]
  },
  {
   "cell_type": "code",
   "execution_count": 6,
   "metadata": {},
   "outputs": [],
   "source": [
    "model_minibatch = GaussianCopula(training_mode='minibatch-offline')\n",
    "Ximp = model_minibatch.fit_transform(X=X_mask)"
   ]
  },
  {
   "cell_type": "code",
   "execution_count": 7,
   "metadata": {},
   "outputs": [
    {
     "name": "stdout",
     "output_type": "stream",
     "text": [
      "The SMAE across 5 exponential variables has: mean 0.738 and std 0.048\n",
      "The SMAE across 5 1-5 oridnal variables has: mean 0.818 and std 0.124\n",
      "The SMAE across 5 boolean variables has: mean 0.589 and std 0.048\n"
     ]
    }
   ],
   "source": [
    "smae = get_smae(Ximp, X, X_mask)\n",
    "\n",
    "print(f'The SMAE across 5 exponential variables has: mean {smae[:5].mean():.3f} and std {smae[:5].std():.3f}')\n",
    "print(f'The SMAE across 5 1-5 oridnal variables has: mean {smae[5:10].mean():.3f} and std {smae[5:10].std():.3f}')\n",
    "print(f'The SMAE across 5 boolean variables has: mean {smae[10:].mean():.3f} and std {smae[10:].std():.3f}')"
   ]
  },
  {
   "cell_type": "code",
   "execution_count": 8,
   "metadata": {},
   "outputs": [
    {
     "name": "stdout",
     "output_type": "stream",
     "text": [
      "The scaled correlation error is: 0.151\n"
     ]
    }
   ],
   "source": [
    "copula_corr_est = model_minibatch.get_params()['copula_corr']\n",
    "\n",
    "cor_error = get_scaled_error(copula_corr_est, copula_corr)\n",
    "print(f'The scaled correlation error is: {cor_error:.3f}')"
   ]
  },
  {
   "cell_type": "code",
   "execution_count": 9,
   "metadata": {},
   "outputs": [],
   "source": [
    "model_online = GaussianCopula(training_mode='minibatch-online', cont_indices=[True]*5+[False]*10)\n",
    "Ximp = model_online.fit_transform(X=X_mask)"
   ]
  },
  {
   "cell_type": "code",
   "execution_count": 10,
   "metadata": {},
   "outputs": [
    {
     "name": "stdout",
     "output_type": "stream",
     "text": [
      "The SMAE across 5 exponential variables has: mean 0.821 and std 0.034\n",
      "The SMAE across 5 1-5 oridnal variables has: mean 0.908 and std 0.067\n",
      "The SMAE across 5 boolean variables has: mean 0.665 and std 0.033\n"
     ]
    }
   ],
   "source": [
    "smae = get_smae(Ximp, X, X_mask)\n",
    "\n",
    "print(f'The SMAE across 5 exponential variables has: mean {smae[:5].mean():.3f} and std {smae[:5].std():.3f}')\n",
    "print(f'The SMAE across 5 1-5 oridnal variables has: mean {smae[5:10].mean():.3f} and std {smae[5:10].std():.3f}')\n",
    "print(f'The SMAE across 5 boolean variables has: mean {smae[10:].mean():.3f} and std {smae[10:].std():.3f}')"
   ]
  },
  {
   "cell_type": "code",
   "execution_count": 11,
   "metadata": {},
   "outputs": [
    {
     "name": "stdout",
     "output_type": "stream",
     "text": [
      "The scaled correlation error is: 0.192\n"
     ]
    }
   ],
   "source": [
    "copula_corr_est = model_online.get_params()['copula_corr']\n",
    "\n",
    "cor_error = get_scaled_error(copula_corr_est, copula_corr)\n",
    "print(f'The scaled correlation error is: {cor_error:.3f}')"
   ]
  },
  {
   "cell_type": "code",
   "execution_count": 12,
   "metadata": {},
   "outputs": [],
   "source": [
    "model_online_decay = GaussianCopula(training_mode='minibatch-online', \n",
    "                                    cont_indices=[True]*5+[False]*10, \n",
    "                                    const_stepsize=None, \n",
    "                                    verbose = 1)\n",
    "Ximp = model_online_decay.fit_transform(X=X_mask)"
   ]
  },
  {
   "cell_type": "code",
   "execution_count": 13,
   "metadata": {},
   "outputs": [
    {
     "name": "stdout",
     "output_type": "stream",
     "text": [
      "The SMAE across 5 exponential variables has: mean 0.817 and std 0.037\n",
      "The SMAE across 5 1-5 oridnal variables has: mean 0.896 and std 0.074\n",
      "The SMAE across 5 boolean variables has: mean 0.657 and std 0.042\n"
     ]
    }
   ],
   "source": [
    "smae = get_smae(Ximp, X, X_mask)\n",
    "\n",
    "print(f'The SMAE across 5 exponential variables has: mean {smae[:5].mean():.3f} and std {smae[:5].std():.3f}')\n",
    "print(f'The SMAE across 5 1-5 oridnal variables has: mean {smae[5:10].mean():.3f} and std {smae[5:10].std():.3f}')\n",
    "print(f'The SMAE across 5 boolean variables has: mean {smae[10:].mean():.3f} and std {smae[10:].std():.3f}')"
   ]
  },
  {
   "cell_type": "code",
   "execution_count": 14,
   "metadata": {},
   "outputs": [
    {
     "name": "stdout",
     "output_type": "stream",
     "text": [
      "The scaled correlation error is: 0.196\n"
     ]
    }
   ],
   "source": [
    "copula_corr_est = model_online_decay.get_params()['copula_corr']\n",
    "\n",
    "cor_error = get_scaled_error(copula_corr_est, copula_corr)\n",
    "print(f'The scaled correlation error is: {cor_error:.3f}')"
   ]
  },
  {
   "cell_type": "code",
   "execution_count": 15,
   "metadata": {},
   "outputs": [],
   "source": [
    "seed = 101\n",
    "var_types = {'cont':list(range(100)), 'ord':list(range(100, 150, 1)), 'bin':list(range(150, 200, 1))}\n",
    "Xtrue, Wtrue = generate_LRGC(var_types=var_types, \n",
    "                             rank=10, \n",
    "                             sigma=0.1, \n",
    "                             n=2000, \n",
    "                             cont_transform=lambda x: np.power(x,3),\n",
    "                             seed=seed)"
   ]
  },
  {
   "cell_type": "code",
   "execution_count": 16,
   "metadata": {},
   "outputs": [],
   "source": [
    "np.random.seed(seed)\n",
    "X_masked = mask(Xtrue, mask_fraction = 0.4, seed=seed)"
   ]
  },
  {
   "cell_type": "code",
   "execution_count": 17,
   "metadata": {},
   "outputs": [],
   "source": [
    "model_lrgc = LowRankGaussianCopula(rank=10, verbose=1)"
   ]
  },
  {
   "cell_type": "code",
   "execution_count": 18,
   "metadata": {},
   "outputs": [
    {
     "name": "stdout",
     "output_type": "stream",
     "text": [
      "Ater initialization, W has shape (200, 10) and sigma is 0.21016169823236375\n",
      "Interation 1: noise ratio estimate 0.136, copula parameter update ratio 0.063, likelihood 126.387\n",
      "Interation 2: noise ratio estimate 0.114, copula parameter update ratio 0.017, likelihood 172.965\n",
      "Interation 3: noise ratio estimate 0.106, copula parameter update ratio 0.008, likelihood 190.359\n",
      "Interation 4: noise ratio estimate 0.103, copula parameter update ratio 0.005, likelihood 197.334\n",
      "Interation 5: noise ratio estimate 0.102, copula parameter update ratio 0.004, likelihood 200.288\n",
      "early stop because changed likelihood below 1%\n"
     ]
    }
   ],
   "source": [
    "Ximp = model_lrgc.fit_transform(X=X_masked)"
   ]
  },
  {
   "cell_type": "code",
   "execution_count": 19,
   "metadata": {},
   "outputs": [
    {
     "name": "stdout",
     "output_type": "stream",
     "text": [
      "The SMAE across 5 exponential variables has: mean 0.500 and std 0.024\n",
      "The SMAE across 5 1-5 oridnal variables has: mean 0.365 and std 0.036\n",
      "The SMAE across 5 boolean variables has: mean 0.262 and std 0.033\n"
     ]
    }
   ],
   "source": [
    "smae = get_smae(Ximp, Xtrue, X_masked)\n",
    "\n",
    "print(f'The SMAE across 5 exponential variables has: mean {smae[:100].mean():.3f} and std {smae[:100].std():.3f}')\n",
    "print(f'The SMAE across 5 1-5 oridnal variables has: mean {smae[100:150].mean():.3f} and std {smae[100:150].std():.3f}')\n",
    "print(f'The SMAE across 5 boolean variables has: mean {smae[150:].mean():.3f} and std {smae[150:].std():.3f}')"
   ]
  },
  {
   "cell_type": "code",
   "execution_count": 20,
   "metadata": {},
   "outputs": [
    {
     "name": "stdout",
     "output_type": "stream",
     "text": [
      "The latent subspace estimation error is: 0.159\n"
     ]
    }
   ],
   "source": [
    "copula_factor_loading = model_lrgc.get_params()['copula_factor_loading']\n",
    "cor_error = grassman_dist(copula_factor_loading, Wtrue)\n",
    "print(f'The latent subspace estimation error is: {cor_error[0]:.3f}')"
   ]
  },
  {
   "cell_type": "code",
   "execution_count": null,
   "metadata": {},
   "outputs": [],
   "source": []
  }
 ],
 "metadata": {
  "kernelspec": {
   "display_name": "Python 3",
   "language": "python",
   "name": "python3"
  },
  "language_info": {
   "codemirror_mode": {
    "name": "ipython",
    "version": 3
   },
   "file_extension": ".py",
   "mimetype": "text/x-python",
   "name": "python",
   "nbconvert_exporter": "python",
   "pygments_lexer": "ipython3",
   "version": "3.7.6"
  }
 },
 "nbformat": 4,
 "nbformat_minor": 4
}
