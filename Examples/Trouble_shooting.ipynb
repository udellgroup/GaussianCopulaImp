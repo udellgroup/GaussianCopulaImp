{
 "cells": [
  {
   "cell_type": "code",
   "execution_count": 1,
   "metadata": {},
   "outputs": [],
   "source": [
    "from GaussianCopulaImp.gaussian_copula import GaussianCopula\n",
    "from GaussianCopulaImp.helper_evaluation import get_smae\n",
    "from GaussianCopulaImp.helper_mask import mask_MCAR\n",
    "from GaussianCopulaImp.helper_data import load_GSS\n",
    "import numpy as np\n",
    "import pandas as pd\n",
    "import time\n",
    "import matplotlib.pyplot as plt\n",
    "import seaborn as sns"
   ]
  },
  {
   "cell_type": "markdown",
   "metadata": {},
   "source": [
    "# Trouble shooting for GaussianCopulaImp\n",
    "\n",
    "This notebook is used to collect and resolve encountered trouble when running the python package **GaussianCopulaImp**."
   ]
  },
  {
   "cell_type": "markdown",
   "metadata": {},
   "source": [
    "## Model divergence? Careful of variable types!"
   ]
  },
  {
   "cell_type": "markdown",
   "metadata": {},
   "source": [
    "Here we present an example we found earlier where improper variable type specification leads to model fitting divergence. We use a subset of 2014 General Social Survey (GSS) dataset, also used in [1], consisting of 2538 observtions and 18 variables. 25.9% of the original entries are missing. We further mask 10% for evaluation."
   ]
  },
  {
   "cell_type": "code",
   "execution_count": 7,
   "metadata": {},
   "outputs": [],
   "source": [
    "data_gss = load_GSS(cols = 'KDD')\n",
    "gss_masked = mask_MCAR(X=data_gss, mask_fraction=.1, seed=101)"
   ]
  },
  {
   "cell_type": "markdown",
   "metadata": {},
   "source": [
    "The issue is around a special variable: weeks worked last year (`WEEKSWRK`). See below for its histogram. It has 53 levels (0, 1, 2, ..., 52), which tempts users to treat it as a continuous variable. "
   ]
  },
  {
   "cell_type": "code",
   "execution_count": 4,
   "metadata": {},
   "outputs": [
    {
     "data": {
      "text/plain": [
       "<matplotlib.axes._subplots.AxesSubplot at 0x7fe12bece910>"
      ]
     },
     "execution_count": 4,
     "metadata": {},
     "output_type": "execute_result"
    },
    {
     "data": {
      "image/png": "[encoded data removed]",
      "text/plain": [
       "<Figure size 432x288 with 1 Axes>"
      ]
     },
     "metadata": {
      "needs_background": "light"
     },
     "output_type": "display_data"
    }
   ],
   "source": [
    "data_gss['WEEKSWRK'].hist(bins = 53)"
   ]
  },
  {
   "cell_type": "markdown",
   "metadata": {},
   "source": [
    "However, treating it as a continuous variable is problematic. We now enforce `WEEKSWRK` to be treated as continuous when fitting the model and see what will happen."
   ]
  },
  {
   "cell_type": "code",
   "execution_count": 5,
   "metadata": {},
   "outputs": [
    {
     "name": "stdout",
     "output_type": "stream",
     "text": [
      "Iteration 1: copula parameter change 0.1496, likelihood -22.8607\n",
      "Iteration 2: copula parameter change 0.0901, likelihood -22.7438\n",
      "Iteration 3: copula parameter change 0.0604, likelihood -22.7255\n",
      "Iteration 4: copula parameter change 0.0448, likelihood -22.7776\n",
      "Iteration 5: copula parameter change 0.0356, likelihood -22.8732\n",
      "Iteration 6: copula parameter change 0.0303, likelihood -22.9866\n",
      "Iteration 7: copula parameter change 0.0285, likelihood -23.0983\n",
      "Iteration 8: copula parameter change 0.0299, likelihood -23.1989\n",
      "Iteration 9: copula parameter change 0.0336, likelihood -23.2893\n",
      "Iteration 10: copula parameter change 0.0386, likelihood -23.3777\n",
      "Iteration 11: copula parameter change 0.0434, likelihood -23.4771\n",
      "Iteration 12: copula parameter change 0.0466, likelihood -23.6030\n",
      "Convergence not achieved at maximum iterations\n"
     ]
    }
   ],
   "source": [
    "weekswrk_index = np.flatnonzero('WEEKSWRK'==data_gss.columns).item()\n",
    "model = GaussianCopula(verbose = 1, max_iter = 12)\n",
    "Ximp = model.fit_transform(X=gss_masked, continuous = [weekswrk_index])"
   ]
  },
  {
   "cell_type": "code",
   "execution_count": 6,
   "metadata": {},
   "outputs": [
    {
     "name": "stdout",
     "output_type": "stream",
     "text": [
      "ordinal: ['DEGREE', 'PEOCNTCT', 'STRESS', 'SLPPRBLM', 'WKSMOOTH', 'UNEMP', 'SATFIN', 'CLASS', 'SATJOB', 'LIFE', 'HEALTH', 'HAPPY', 'RINCOME', 'INCOM16', 'SEXFREQ', 'SOCBAR']\n",
      "continuous: ['WEEKSWRK', 'AGE']\n",
      "lower_truncated: []\n",
      "upper_truncated: []\n",
      "twosided_truncated: []\n"
     ]
    }
   ],
   "source": [
    "# verify WEEKSWRK is treated as continuous\n",
    "for key,value in model.get_vartypes(feature_names = data_gss.columns.to_list()).items():\n",
    "    print(f'{key}: {value}')"
   ]
  },
  {
   "cell_type": "markdown",
   "metadata": {},
   "source": [
    "As shown above, the algorithm diverges. Moreover, the likelihood which is expected to monotonically increase actually decreases after a few iterations. The reason is that 75% of `WEEKSWRK`'s population lies in either 0 or 52. Treating a variable with large mode multiplicity as a continuous variable severely violates the model's assumption on the input data. More specifically, the package will transform each continuous variable into a standard normal variable through some strict monotonic transformation. However, no strict monotonic transformation changes the multiplicity. The large mode multiplicity will remain after the transformation step and significantly violates the normality assumption, potentially causing the model's divergence.\n",
    "\n",
    "Current implementation will no longer run into this problem: `WEEKSWRK` will be classified as a ordinal variable."
   ]
  },
  {
   "cell_type": "code",
   "execution_count": 5,
   "metadata": {},
   "outputs": [
    {
     "name": "stdout",
     "output_type": "stream",
     "text": [
      "Iteration 1: copula parameter change 0.1453, likelihood -20.8997\n",
      "Iteration 2: copula parameter change 0.0790, likelihood -20.6342\n",
      "Iteration 3: copula parameter change 0.0449, likelihood -20.4840\n",
      "Iteration 4: copula parameter change 0.0275, likelihood -20.3970\n",
      "Iteration 5: copula parameter change 0.0181, likelihood -20.3441\n",
      "Iteration 6: copula parameter change 0.0126, likelihood -20.3103\n",
      "Iteration 7: copula parameter change 0.0091, likelihood -20.2877\n",
      "Convergence achieved at iteration 7\n"
     ]
    }
   ],
   "source": [
    "model = GaussianCopula(verbose = 1)\n",
    "Ximp = model.fit_transform(X=gss_masked)"
   ]
  },
  {
   "cell_type": "code",
   "execution_count": 6,
   "metadata": {},
   "outputs": [
    {
     "name": "stdout",
     "output_type": "stream",
     "text": [
      "ordinal: ['DEGREE', 'PEOCNTCT', 'STRESS', 'SLPPRBLM', 'WKSMOOTH', 'UNEMP', 'SATFIN', 'CLASS', 'SATJOB', 'WEEKSWRK', 'LIFE', 'HEALTH', 'HAPPY', 'RINCOME', 'INCOM16', 'SEXFREQ', 'SOCBAR']\n",
      "continuous: ['AGE']\n",
      "lower_truncated: []\n",
      "upper_truncated: []\n",
      "twosided_truncated: []\n"
     ]
    }
   ],
   "source": [
    "# verify WEEKSWRK is treated as ordinal\n",
    "for key,value in model.get_vartypes(feature_names = data_gss.columns.to_list()).items():\n",
    "    print(f'{key}: {value}')"
   ]
  }
 ],
 "metadata": {
  "kernelspec": {
   "display_name": "Python 3",
   "language": "python",
   "name": "python3"
  },
  "language_info": {
   "codemirror_mode": {
    "name": "ipython",
    "version": 3
   },
   "file_extension": ".py",
   "mimetype": "text/x-python",
   "name": "python",
   "nbconvert_exporter": "python",
   "pygments_lexer": "ipython3",
   "version": "3.7.6"
  }
 },
 "nbformat": 4,
 "nbformat_minor": 4
}
